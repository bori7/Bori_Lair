{
 "cells": [
  {
   "cell_type": "code",
   "execution_count": 1,
   "metadata": {},
   "outputs": [
    {
     "name": "stderr",
     "output_type": "stream",
     "text": [
      "C:\\Users\\hp\\Anaconda3\\lib\\site-packages\\ipykernel\\parentpoller.py:116: UserWarning: Parent poll failed.  If the frontend dies,\n",
      "                the kernel may be left running.  Please let us know\n",
      "                about your system (bitness, Python, etc.) at\n",
      "                ipython-dev@scipy.org\n",
      "  ipython-dev@scipy.org\"\"\")\n"
     ]
    }
   ],
   "source": [
    "import pymongo"
   ]
  },
  {
   "cell_type": "code",
   "execution_count": 4,
   "metadata": {},
   "outputs": [],
   "source": []
  },
  {
   "cell_type": "code",
   "execution_count": 46,
   "metadata": {},
   "outputs": [],
   "source": [
    "from pymongo import MongoClient\n",
    "import pprint"
   ]
  },
  {
   "cell_type": "code",
   "execution_count": 47,
   "metadata": {},
   "outputs": [],
   "source": [
    "client = MongoClient()"
   ]
  },
  {
   "cell_type": "code",
   "execution_count": 48,
   "metadata": {},
   "outputs": [],
   "source": [
    "db2 = client.test_database"
   ]
  },
  {
   "cell_type": "code",
   "execution_count": 50,
   "metadata": {},
   "outputs": [],
   "source": [
    "db2 = client['test-database']\n",
    "\n",
    "collection = db2.test_collection"
   ]
  },
  {
   "cell_type": "code",
   "execution_count": 51,
   "metadata": {},
   "outputs": [
    {
     "data": {
      "text/plain": [
       "Collection(Database(MongoClient(host=['localhost:27017'], document_class=dict, tz_aware=False, connect=True), 'test-database'), 'test_collection')"
      ]
     },
     "execution_count": 51,
     "metadata": {},
     "output_type": "execute_result"
    }
   ],
   "source": [
    "collection"
   ]
  },
  {
   "cell_type": "code",
   "execution_count": 58,
   "metadata": {},
   "outputs": [],
   "source": [
    "collection = db2['test-collection']"
   ]
  },
  {
   "cell_type": "code",
   "execution_count": 59,
   "metadata": {},
   "outputs": [
    {
     "data": {
      "text/plain": [
       "Collection(Database(MongoClient(host=['localhost:27017'], document_class=dict, tz_aware=False, connect=True), 'test-database'), 'test-collection')"
      ]
     },
     "execution_count": 59,
     "metadata": {},
     "output_type": "execute_result"
    }
   ],
   "source": [
    "collection"
   ]
  },
  {
   "cell_type": "code",
   "execution_count": 60,
   "metadata": {},
   "outputs": [],
   "source": [
    "import datetime\n",
    "\n",
    "post = {'username' : 'bori', 'Password':\"moses\"}"
   ]
  },
  {
   "cell_type": "code",
   "execution_count": null,
   "metadata": {},
   "outputs": [],
   "source": []
  },
  {
   "cell_type": "code",
   "execution_count": 133,
   "metadata": {},
   "outputs": [
    {
     "name": "stdout",
     "output_type": "stream",
     "text": [
      "True\n"
     ]
    },
    {
     "name": "stderr",
     "output_type": "stream",
     "text": [
      "C:\\Users\\hp\\Anaconda3\\lib\\site-packages\\ipykernel_launcher.py:1: DeprecationWarning: count is deprecated. Use Collection.count_documents instead.\n",
      "  \"\"\"Entry point for launching an IPython kernel.\n"
     ]
    }
   ],
   "source": [
    "if posts.find({'username': 'bori'}).count():\n",
    "    print(True)"
   ]
  },
  {
   "cell_type": "code",
   "execution_count": 130,
   "metadata": {},
   "outputs": [
    {
     "name": "stdout",
     "output_type": "stream",
     "text": [
      "['admin', 'aggregation_example', 'config', 'local', 'test-database']\n"
     ]
    }
   ],
   "source": [
    "print(client.list_database_names())"
   ]
  },
  {
   "cell_type": "code",
   "execution_count": 61,
   "metadata": {},
   "outputs": [],
   "source": [
    "username = 'moses'\n",
    "password = 'bori'"
   ]
  },
  {
   "cell_type": "code",
   "execution_count": 62,
   "metadata": {},
   "outputs": [],
   "source": [
    "user = {'username' : username, 'password':password}"
   ]
  },
  {
   "cell_type": "code",
   "execution_count": 123,
   "metadata": {},
   "outputs": [
    {
     "data": {
      "text/plain": [
       "<pymongo.results.InsertOneResult at 0x2c5894cef48>"
      ]
     },
     "execution_count": 123,
     "metadata": {},
     "output_type": "execute_result"
    }
   ],
   "source": [
    "posts.insert_one({'username':'hannah'})"
   ]
  },
  {
   "cell_type": "code",
   "execution_count": 124,
   "metadata": {},
   "outputs": [
    {
     "name": "stdout",
     "output_type": "stream",
     "text": [
      "{'_id': ObjectId('5ea33c1a42f8260c2d3f5324'), 'username': 'hannah'}\n",
      "{'_id': ObjectId('5ea33c2442f8260c2d3f5325'), 'username': 'hannah'}\n",
      "{'_id': ObjectId('5ea33cd542f8260c2d3f5326'), 'username': 'hannah'}\n"
     ]
    }
   ],
   "source": [
    "for l in posts.find({'username':'hannah'}):\n",
    "    print(l)"
   ]
  },
  {
   "cell_type": "code",
   "execution_count": 63,
   "metadata": {},
   "outputs": [],
   "source": [
    "posts = db2.posts"
   ]
  },
  {
   "cell_type": "code",
   "execution_count": 64,
   "metadata": {},
   "outputs": [
    {
     "data": {
      "text/plain": [
       "Collection(Database(MongoClient(host=['localhost:27017'], document_class=dict, tz_aware=False, connect=True), 'test-database'), 'posts')"
      ]
     },
     "execution_count": 64,
     "metadata": {},
     "output_type": "execute_result"
    }
   ],
   "source": [
    "posts"
   ]
  },
  {
   "cell_type": "code",
   "execution_count": 65,
   "metadata": {},
   "outputs": [],
   "source": [
    "post_id = posts.insert_one(post).inserted_id"
   ]
  },
  {
   "cell_type": "code",
   "execution_count": 66,
   "metadata": {},
   "outputs": [
    {
     "data": {
      "text/plain": [
       "ObjectId('5ea3286942f8260c2d3f5321')"
      ]
     },
     "execution_count": 66,
     "metadata": {},
     "output_type": "execute_result"
    }
   ],
   "source": [
    "post_id"
   ]
  },
  {
   "cell_type": "code",
   "execution_count": 67,
   "metadata": {
    "scrolled": true
   },
   "outputs": [
    {
     "data": {
      "text/plain": [
       "<pymongo.results.InsertOneResult at 0x2c58956a5c8>"
      ]
     },
     "execution_count": 67,
     "metadata": {},
     "output_type": "execute_result"
    }
   ],
   "source": [
    "posts.insert_one(user)"
   ]
  },
  {
   "cell_type": "code",
   "execution_count": 68,
   "metadata": {},
   "outputs": [
    {
     "data": {
      "text/plain": [
       "Database(MongoClient(host=['localhost:27017'], document_class=dict, tz_aware=False, connect=True), 'test-database')"
      ]
     },
     "execution_count": 68,
     "metadata": {},
     "output_type": "execute_result"
    }
   ],
   "source": [
    "db2"
   ]
  },
  {
   "cell_type": "code",
   "execution_count": 69,
   "metadata": {},
   "outputs": [
    {
     "data": {
      "text/plain": [
       "['posts', 'profiles']"
      ]
     },
     "execution_count": 69,
     "metadata": {},
     "output_type": "execute_result"
    }
   ],
   "source": [
    "db2.list_collection_names()"
   ]
  },
  {
   "cell_type": "code",
   "execution_count": 85,
   "metadata": {},
   "outputs": [],
   "source": [
    "s= posts.find_one({'username':'bori'})"
   ]
  },
  {
   "cell_type": "code",
   "execution_count": 88,
   "metadata": {},
   "outputs": [
    {
     "data": {
      "text/plain": [
       "{'_id': ObjectId('5ea3264042f8260c2d3f531f'),\n",
       " 'username': 'bori',\n",
       " 'password': 'moses'}"
      ]
     },
     "execution_count": 88,
     "metadata": {},
     "output_type": "execute_result"
    }
   ],
   "source": [
    "s"
   ]
  },
  {
   "cell_type": "code",
   "execution_count": 96,
   "metadata": {},
   "outputs": [],
   "source": [
    "myquery = { \"username\": \"bori\" }\n",
    "newvalues = { \"$set\": { \"courseunit\": 6 } }"
   ]
  },
  {
   "cell_type": "code",
   "execution_count": 97,
   "metadata": {},
   "outputs": [
    {
     "data": {
      "text/plain": [
       "<pymongo.results.UpdateResult at 0x2c5894ceec8>"
      ]
     },
     "execution_count": 97,
     "metadata": {},
     "output_type": "execute_result"
    }
   ],
   "source": [
    "posts.update_one(myquery, newvalues)"
   ]
  },
  {
   "cell_type": "code",
   "execution_count": 113,
   "metadata": {},
   "outputs": [],
   "source": [
    "s= posts.find_one({'username':'bori'})"
   ]
  },
  {
   "cell_type": "code",
   "execution_count": 114,
   "metadata": {},
   "outputs": [
    {
     "ename": "TypeError",
     "evalue": "'Collection' object is not callable. If you meant to call the 'find_one' method on a 'Database' object it is failing because no such method exists.",
     "output_type": "error",
     "traceback": [
      "\u001b[1;31m---------------------------------------------------------------------------\u001b[0m",
      "\u001b[1;31mTypeError\u001b[0m                                 Traceback (most recent call last)",
      "\u001b[1;32m<ipython-input-114-f158b2cf772a>\u001b[0m in \u001b[0;36m<module>\u001b[1;34m()\u001b[0m\n\u001b[1;32m----> 1\u001b[1;33m \u001b[0mdb2\u001b[0m\u001b[1;33m.\u001b[0m\u001b[0mfind_one\u001b[0m\u001b[1;33m(\u001b[0m\u001b[1;33m)\u001b[0m\u001b[1;33m\u001b[0m\u001b[0m\n\u001b[0m",
      "\u001b[1;32m~\\Anaconda3\\lib\\site-packages\\pymongo\\collection.py\u001b[0m in \u001b[0;36m__call__\u001b[1;34m(self, *args, **kwargs)\u001b[0m\n\u001b[0;32m   3337\u001b[0m                             \u001b[1;34m\"object it is failing because no such method \"\u001b[0m\u001b[1;33m\u001b[0m\u001b[0m\n\u001b[0;32m   3338\u001b[0m                             \u001b[1;34m\"exists.\"\u001b[0m \u001b[1;33m%\u001b[0m\u001b[1;33m\u001b[0m\u001b[0m\n\u001b[1;32m-> 3339\u001b[1;33m                             self.__name)\n\u001b[0m\u001b[0;32m   3340\u001b[0m         raise TypeError(\"'Collection' object is not callable. If you meant to \"\n\u001b[0;32m   3341\u001b[0m                         \u001b[1;34m\"call the '%s' method on a 'Collection' object it is \"\u001b[0m\u001b[1;33m\u001b[0m\u001b[0m\n",
      "\u001b[1;31mTypeError\u001b[0m: 'Collection' object is not callable. If you meant to call the 'find_one' method on a 'Database' object it is failing because no such method exists."
     ]
    }
   ],
   "source": [
    "db2.find_one()"
   ]
  },
  {
   "cell_type": "code",
   "execution_count": 99,
   "metadata": {},
   "outputs": [
    {
     "data": {
      "text/plain": [
       "{'_id': ObjectId('5ea3264042f8260c2d3f531f'),\n",
       " 'username': 'bori',\n",
       " 'password': 'moses',\n",
       " 'courseunit': 6}"
      ]
     },
     "execution_count": 99,
     "metadata": {},
     "output_type": "execute_result"
    }
   ],
   "source": [
    "s"
   ]
  },
  {
   "cell_type": "code",
   "execution_count": 37,
   "metadata": {},
   "outputs": [],
   "source": [
    "import pprint"
   ]
  },
  {
   "cell_type": "code",
   "execution_count": 40,
   "metadata": {},
   "outputs": [
    {
     "name": "stdout",
     "output_type": "stream",
     "text": [
      "{'_id': ObjectId('5e86a0aca68274b8a0ca8802'),\n",
      " 'author': 'bori',\n",
      " 'date': datetime.datetime(2020, 4, 3, 2, 34, 20, 236000),\n",
      " 'tags': ['mongodb', 'python', 'pymongo'],\n",
      " 'text': 'my first database!!!'}\n"
     ]
    }
   ],
   "source": [
    "pprint.pprint(posts.find_one())"
   ]
  },
  {
   "cell_type": "code",
   "execution_count": 19,
   "metadata": {},
   "outputs": [
    {
     "data": {
      "text/plain": [
       "{'_id': ObjectId('5e86a0aca68274b8a0ca8802'),\n",
       " 'author': 'bori',\n",
       " 'text': 'my first database!!!',\n",
       " 'tags': ['mongodb', 'python', 'pymongo'],\n",
       " 'date': datetime.datetime(2020, 4, 3, 2, 34, 20, 236000)}"
      ]
     },
     "execution_count": 19,
     "metadata": {},
     "output_type": "execute_result"
    }
   ],
   "source": [
    "posts.find_one({'author':'bori'})"
   ]
  },
  {
   "cell_type": "code",
   "execution_count": 20,
   "metadata": {},
   "outputs": [],
   "source": [
    "\n",
    "new_posts = [{'author' : \"Mike\",\n",
    "              \"text\": \"Another post!\",\n",
    "              \"tags\" : [\"bulk\", \"insert\"],\n",
    "              \"date\": datetime.datetime(2009,11,12,11,14)},\n",
    "             {'author' : \"Eliot\",\n",
    "              \"title\" : \"MongoDB is fun\",\n",
    "              \"text\" : \"and pretty easy too!\",\n",
    "              \"date\": datetime.datetime(2009, 11, 10, 10, 45)}]"
   ]
  },
  {
   "cell_type": "code",
   "execution_count": 21,
   "metadata": {},
   "outputs": [
    {
     "data": {
      "text/plain": [
       "<pymongo.results.InsertManyResult at 0x2c0ada1eb88>"
      ]
     },
     "execution_count": 21,
     "metadata": {},
     "output_type": "execute_result"
    }
   ],
   "source": [
    "posts.insert_many(new_posts)"
   ]
  },
  {
   "cell_type": "code",
   "execution_count": 22,
   "metadata": {},
   "outputs": [
    {
     "data": {
      "text/plain": [
       "{'_id': ObjectId('5e8706b280aa8dca9b4da23d'),\n",
       " 'author': 'Eliot',\n",
       " 'title': 'MongoDB is fun',\n",
       " 'text': 'and pretty easy too!',\n",
       " 'date': datetime.datetime(2009, 11, 10, 10, 45)}"
      ]
     },
     "execution_count": 22,
     "metadata": {},
     "output_type": "execute_result"
    }
   ],
   "source": [
    "posts.find_one({'author':'Eliot'})"
   ]
  },
  {
   "cell_type": "code",
   "execution_count": 28,
   "metadata": {},
   "outputs": [
    {
     "data": {
      "text/plain": [
       "Collection(Database(MongoClient(host=['localhost:27017'], document_class=dict, tz_aware=False, connect=True), 'test-database'), 'posts.inserted_ids')"
      ]
     },
     "execution_count": 28,
     "metadata": {},
     "output_type": "execute_result"
    }
   ],
   "source": [
    "posts.inserted_ids"
   ]
  },
  {
   "cell_type": "code",
   "execution_count": 29,
   "metadata": {},
   "outputs": [
    {
     "name": "stdout",
     "output_type": "stream",
     "text": [
      "{'_id': ObjectId('5e86a0aca68274b8a0ca8802'),\n",
      " 'author': 'bori',\n",
      " 'date': datetime.datetime(2020, 4, 3, 2, 34, 20, 236000),\n",
      " 'tags': ['mongodb', 'python', 'pymongo'],\n",
      " 'text': 'my first database!!!'}\n",
      "{'_id': ObjectId('5e86a5efb1a47c09430b1149'),\n",
      " 'author': 'bori',\n",
      " 'date': datetime.datetime(2020, 4, 3, 2, 56, 47, 223000),\n",
      " 'tags': ['mongodb', 'python', 'pymongo'],\n",
      " 'text': 'my first database!!!'}\n",
      "{'_id': ObjectId('5e86a61bac57cc98f5c5a5e2'),\n",
      " 'author': 'bori',\n",
      " 'date': datetime.datetime(2020, 4, 3, 2, 57, 31, 612000),\n",
      " 'tags': ['mongodb', 'python', 'pymongo'],\n",
      " 'text': 'my first database!!!'}\n",
      "{'_id': ObjectId('5e86fdd23bad4b9649fb0920'),\n",
      " 'author': 'bori',\n",
      " 'date': datetime.datetime(2020, 4, 3, 9, 11, 46, 618000),\n",
      " 'tags': ['mongodb', 'python', 'pymongo'],\n",
      " 'text': 'my first database!!!'}\n",
      "{'_id': ObjectId('5e86fe4059560e6995009c4a'),\n",
      " 'author': 'bori',\n",
      " 'date': datetime.datetime(2020, 4, 3, 9, 13, 36, 110000),\n",
      " 'tags': ['mongodb', 'python', 'pymongo'],\n",
      " 'text': 'my first database!!!'}\n",
      "{'_id': ObjectId('5e86fe88270983983b98e46f'),\n",
      " 'author': 'bori',\n",
      " 'date': datetime.datetime(2020, 4, 3, 9, 14, 48, 545000),\n",
      " 'tags': ['mongodb', 'python', 'pymongo'],\n",
      " 'text': 'my first database!!!'}\n",
      "{'_id': ObjectId('5e86feee5271ab2b7475d3d1'),\n",
      " 'author': 'bori',\n",
      " 'date': datetime.datetime(2020, 4, 3, 9, 16, 30, 831000),\n",
      " 'tags': ['mongodb', 'python', 'pymongo'],\n",
      " 'text': 'my first database!!!'}\n",
      "{'_id': ObjectId('5e87018b6cd7567c4b0837ba'),\n",
      " 'author': 'bori',\n",
      " 'date': datetime.datetime(2020, 4, 3, 9, 27, 39, 493000),\n",
      " 'tags': ['mongodb', 'python', 'pymongo'],\n",
      " 'text': 'my first database!!!'}\n",
      "{'_id': ObjectId('5e870254efd30e5c75d49ec6'),\n",
      " 'author': 'bori',\n",
      " 'date': datetime.datetime(2020, 4, 3, 9, 31, 0, 116000),\n",
      " 'tags': ['mongodb', 'python', 'pymongo'],\n",
      " 'text': 'my first database!!!'}\n",
      "{'_id': ObjectId('5e87026e9f0c664f55f1452a'),\n",
      " 'author': 'bori',\n",
      " 'date': datetime.datetime(2020, 4, 3, 9, 31, 26, 497000),\n",
      " 'tags': ['mongodb', 'python', 'pymongo'],\n",
      " 'text': 'my first database!!!'}\n",
      "{'_id': ObjectId('5e870502a4ec1427d8052fee'),\n",
      " 'author': 'bori',\n",
      " 'date': datetime.datetime(2020, 4, 3, 9, 42, 26, 843000),\n",
      " 'tags': ['mongodb', 'python', 'pymongo'],\n",
      " 'text': 'my first database!!!'}\n",
      "{'_id': ObjectId('5e870531438a38f00b2f132c'),\n",
      " 'author': 'bori',\n",
      " 'date': datetime.datetime(2020, 4, 3, 9, 43, 13, 968000),\n",
      " 'tags': ['mongodb', 'python', 'pymongo'],\n",
      " 'text': 'my first database!!!'}\n",
      "{'_id': ObjectId('5e87054480942fbdec0e0292'),\n",
      " 'author': 'bori',\n",
      " 'date': datetime.datetime(2020, 4, 3, 9, 43, 32, 475000),\n",
      " 'tags': ['mongodb', 'python', 'pymongo'],\n",
      " 'text': 'my first database!!!'}\n",
      "{'_id': ObjectId('5e870556bb88bfee91c498b4'),\n",
      " 'author': 'bori',\n",
      " 'date': datetime.datetime(2020, 4, 3, 9, 43, 50, 21000),\n",
      " 'tags': ['mongodb', 'python', 'pymongo'],\n",
      " 'text': 'my first database!!!'}\n",
      "{'_id': ObjectId('5e8706b280aa8dca9b4da23b'),\n",
      " 'author': 'bori',\n",
      " 'date': datetime.datetime(2020, 4, 3, 9, 49, 38, 223000),\n",
      " 'tags': ['mongodb', 'python', 'pymongo'],\n",
      " 'text': 'my first database!!!'}\n",
      "{'_id': ObjectId('5e8706b280aa8dca9b4da23c'),\n",
      " 'author': 'Mike',\n",
      " 'date': datetime.datetime(2009, 11, 12, 11, 14),\n",
      " 'tags': ['bulk', 'insert'],\n",
      " 'text': 'Another post!'}\n",
      "{'_id': ObjectId('5e8706b280aa8dca9b4da23d'),\n",
      " 'author': 'Eliot',\n",
      " 'date': datetime.datetime(2009, 11, 10, 10, 45),\n",
      " 'text': 'and pretty easy too!',\n",
      " 'title': 'MongoDB is fun'}\n",
      "{'_id': ObjectId('5e8707842b99470c0e252cf4'),\n",
      " 'author': 'bori',\n",
      " 'date': datetime.datetime(2020, 4, 3, 9, 53, 8, 688000),\n",
      " 'tags': ['mongodb', 'python', 'pymongo'],\n",
      " 'text': 'my first database!!!'}\n",
      "{'_id': ObjectId('5e8707842b99470c0e252cf5'),\n",
      " 'author': 'Mike',\n",
      " 'date': datetime.datetime(2009, 11, 12, 11, 14),\n",
      " 'tags': ['bulk', 'insert'],\n",
      " 'text': 'Another post!'}\n",
      "{'_id': ObjectId('5e8707842b99470c0e252cf6'),\n",
      " 'author': 'Eliot',\n",
      " 'date': datetime.datetime(2009, 11, 10, 10, 45),\n",
      " 'text': 'and pretty easy too!',\n",
      " 'title': 'MongoDB is fun'}\n",
      "{'_id': ObjectId('5e8707b13e6b74453b26f199'),\n",
      " 'author': 'bori',\n",
      " 'date': datetime.datetime(2020, 4, 3, 9, 53, 53, 565000),\n",
      " 'tags': ['mongodb', 'python', 'pymongo'],\n",
      " 'text': 'my first database!!!'}\n",
      "{'_id': ObjectId('5e8707b13e6b74453b26f19a'),\n",
      " 'author': 'Mike',\n",
      " 'date': datetime.datetime(2009, 11, 12, 11, 14),\n",
      " 'tags': ['bulk', 'insert'],\n",
      " 'text': 'Another post!'}\n",
      "{'_id': ObjectId('5e8707b13e6b74453b26f19b'),\n",
      " 'author': 'Eliot',\n",
      " 'date': datetime.datetime(2009, 11, 10, 10, 45),\n",
      " 'text': 'and pretty easy too!',\n",
      " 'title': 'MongoDB is fun'}\n",
      "{'_id': ObjectId('5e8707fe5d537a231d0963eb'),\n",
      " 'author': 'bori',\n",
      " 'date': datetime.datetime(2020, 4, 3, 9, 55, 10, 273000),\n",
      " 'tags': ['mongodb', 'python', 'pymongo'],\n",
      " 'text': 'my first database!!!'}\n",
      "{'_id': ObjectId('5e8707fe5d537a231d0963ec'),\n",
      " 'author': 'Mike',\n",
      " 'date': datetime.datetime(2009, 11, 12, 11, 14),\n",
      " 'tags': ['bulk', 'insert'],\n",
      " 'text': 'Another post!'}\n",
      "{'_id': ObjectId('5e8707fe5d537a231d0963ed'),\n",
      " 'author': 'Eliot',\n",
      " 'date': datetime.datetime(2009, 11, 10, 10, 45),\n",
      " 'text': 'and pretty easy too!',\n",
      " 'title': 'MongoDB is fun'}\n",
      "{'_id': ObjectId('5e870807dad020cc7faddf16'),\n",
      " 'author': 'bori',\n",
      " 'date': datetime.datetime(2020, 4, 3, 9, 55, 19, 974000),\n",
      " 'tags': ['mongodb', 'python', 'pymongo'],\n",
      " 'text': 'my first database!!!'}\n",
      "{'_id': ObjectId('5e870807dad020cc7faddf17'),\n",
      " 'author': 'Mike',\n",
      " 'date': datetime.datetime(2009, 11, 12, 11, 14),\n",
      " 'tags': ['bulk', 'insert'],\n",
      " 'text': 'Another post!'}\n",
      "{'_id': ObjectId('5e870807dad020cc7faddf18'),\n",
      " 'author': 'Eliot',\n",
      " 'date': datetime.datetime(2009, 11, 10, 10, 45),\n",
      " 'text': 'and pretty easy too!',\n",
      " 'title': 'MongoDB is fun'}\n",
      "{'_id': ObjectId('5e8708110b830cd62f8a47db'),\n",
      " 'author': 'bori',\n",
      " 'date': datetime.datetime(2020, 4, 3, 9, 55, 29, 129000),\n",
      " 'tags': ['mongodb', 'python', 'pymongo'],\n",
      " 'text': 'my first database!!!'}\n",
      "{'_id': ObjectId('5e8708110b830cd62f8a47dc'),\n",
      " 'author': 'Mike',\n",
      " 'date': datetime.datetime(2009, 11, 12, 11, 14),\n",
      " 'tags': ['bulk', 'insert'],\n",
      " 'text': 'Another post!'}\n",
      "{'_id': ObjectId('5e8708110b830cd62f8a47dd'),\n",
      " 'author': 'Eliot',\n",
      " 'date': datetime.datetime(2009, 11, 10, 10, 45),\n",
      " 'text': 'and pretty easy too!',\n",
      " 'title': 'MongoDB is fun'}\n",
      "{'_id': ObjectId('5e87082a86ee0b2b0398e6ed'),\n",
      " 'author': 'bori',\n",
      " 'date': datetime.datetime(2020, 4, 3, 9, 55, 54, 374000),\n",
      " 'tags': ['mongodb', 'python', 'pymongo'],\n",
      " 'text': 'my first database!!!'}\n",
      "{'_id': ObjectId('5e87082a86ee0b2b0398e6ee'),\n",
      " 'author': 'Mike',\n",
      " 'date': datetime.datetime(2009, 11, 12, 11, 14),\n",
      " 'tags': ['bulk', 'insert'],\n",
      " 'text': 'Another post!'}\n",
      "{'_id': ObjectId('5e87082a86ee0b2b0398e6ef'),\n",
      " 'author': 'Eliot',\n",
      " 'date': datetime.datetime(2009, 11, 10, 10, 45),\n",
      " 'text': 'and pretty easy too!',\n",
      " 'title': 'MongoDB is fun'}\n",
      "{'_id': ObjectId('5e87084ca40d541a70809c6e'),\n",
      " 'author': 'bori',\n",
      " 'date': datetime.datetime(2020, 4, 3, 9, 56, 28, 915000),\n",
      " 'tags': ['mongodb', 'python', 'pymongo'],\n",
      " 'text': 'my first database!!!'}\n",
      "{'_id': ObjectId('5e87084ca40d541a70809c6f'),\n",
      " 'author': 'Mike',\n",
      " 'date': datetime.datetime(2009, 11, 12, 11, 14),\n",
      " 'tags': ['bulk', 'insert'],\n",
      " 'text': 'Another post!'}\n",
      "{'_id': ObjectId('5e87084ca40d541a70809c70'),\n",
      " 'author': 'Eliot',\n",
      " 'date': datetime.datetime(2009, 11, 10, 10, 45),\n",
      " 'text': 'and pretty easy too!',\n",
      " 'title': 'MongoDB is fun'}\n",
      "{'_id': ObjectId('5e87088223ea4d620dfc1536'),\n",
      " 'author': 'bori',\n",
      " 'date': datetime.datetime(2020, 4, 3, 9, 57, 22, 646000),\n",
      " 'tags': ['mongodb', 'python', 'pymongo'],\n",
      " 'text': 'my first database!!!'}\n",
      "{'_id': ObjectId('5e87088223ea4d620dfc1537'),\n",
      " 'author': 'Mike',\n",
      " 'date': datetime.datetime(2009, 11, 12, 11, 14),\n",
      " 'tags': ['bulk', 'insert'],\n",
      " 'text': 'Another post!'}\n",
      "{'_id': ObjectId('5e87088223ea4d620dfc1538'),\n",
      " 'author': 'Eliot',\n",
      " 'date': datetime.datetime(2009, 11, 10, 10, 45),\n",
      " 'text': 'and pretty easy too!',\n",
      " 'title': 'MongoDB is fun'}\n",
      "{'_id': ObjectId('5e8709a56dc59cd2a6fdc07b'),\n",
      " 'author': 'bori',\n",
      " 'date': datetime.datetime(2020, 4, 3, 10, 2, 13, 114000),\n",
      " 'tags': ['mongodb', 'python', 'pymongo'],\n",
      " 'text': 'my first database!!!'}\n",
      "{'_id': ObjectId('5e870bf1300ef69583aa9331'),\n",
      " 'author': 'bori',\n",
      " 'date': datetime.datetime(2020, 4, 3, 10, 12, 1, 487000),\n",
      " 'tags': ['mongodb', 'python', 'pymongo'],\n",
      " 'text': 'my first database!!!'}\n",
      "{'_id': ObjectId('5e870c1ccfcaad35b9574988'),\n",
      " 'author': 'bori',\n",
      " 'date': datetime.datetime(2020, 4, 3, 10, 12, 44, 139000),\n",
      " 'tags': ['mongodb', 'python', 'pymongo'],\n",
      " 'text': 'my first database!!!'}\n",
      "{'_id': ObjectId('5e870d990dce5eddd348069a'),\n",
      " 'author': 'bori',\n",
      " 'date': datetime.datetime(2020, 4, 3, 10, 19, 5, 48000),\n",
      " 'tags': ['mongodb', 'python', 'pymongo'],\n",
      " 'text': 'my first database!!!'}\n",
      "{'_id': ObjectId('5ea2cfb68c643944c71f19d7'),\n",
      " 'author': 'bori',\n",
      " 'date': datetime.datetime(2020, 4, 24, 11, 37, 52, 299000),\n",
      " 'tags': ['mongodb', 'python', 'pymongo'],\n",
      " 'text': 'my first database!!!'}\n",
      "{'_id': ObjectId('5ea2d2848c643944c71f19d8'),\n",
      " 'author': 'Mike',\n",
      " 'date': datetime.datetime(2009, 11, 12, 11, 14),\n",
      " 'tags': ['bulk', 'insert'],\n",
      " 'text': 'Another post!'}\n",
      "{'_id': ObjectId('5ea2d2848c643944c71f19d9'),\n",
      " 'author': 'Eliot',\n",
      " 'date': datetime.datetime(2009, 11, 10, 10, 45),\n",
      " 'text': 'and pretty easy too!',\n",
      " 'title': 'MongoDB is fun'}\n"
     ]
    }
   ],
   "source": [
    "for post in posts.find():\n",
    "        \n",
    "        pprint.pprint(post)"
   ]
  },
  {
   "cell_type": "code",
   "execution_count": 32,
   "metadata": {},
   "outputs": [
    {
     "name": "stdout",
     "output_type": "stream",
     "text": [
      "48\n"
     ]
    }
   ],
   "source": [
    "pprint.pprint(posts.count_documents({}))"
   ]
  },
  {
   "cell_type": "code",
   "execution_count": 33,
   "metadata": {},
   "outputs": [
    {
     "name": "stdout",
     "output_type": "stream",
     "text": [
      "10\n"
     ]
    }
   ],
   "source": [
    "pprint.pprint(posts.count_documents({\"author\":\"Mike\"}))"
   ]
  },
  {
   "cell_type": "code",
   "execution_count": 34,
   "metadata": {},
   "outputs": [],
   "source": [
    "d = datetime.datetime(2009, 11, 12, 12)"
   ]
  },
  {
   "cell_type": "code",
   "execution_count": 35,
   "metadata": {},
   "outputs": [
    {
     "name": "stdout",
     "output_type": "stream",
     "text": [
      "{'_id': ObjectId('5e8706b280aa8dca9b4da23d'),\n",
      " 'author': 'Eliot',\n",
      " 'date': datetime.datetime(2009, 11, 10, 10, 45),\n",
      " 'text': 'and pretty easy too!',\n",
      " 'title': 'MongoDB is fun'}\n",
      "{'_id': ObjectId('5e8707842b99470c0e252cf6'),\n",
      " 'author': 'Eliot',\n",
      " 'date': datetime.datetime(2009, 11, 10, 10, 45),\n",
      " 'text': 'and pretty easy too!',\n",
      " 'title': 'MongoDB is fun'}\n",
      "{'_id': ObjectId('5e8707b13e6b74453b26f19b'),\n",
      " 'author': 'Eliot',\n",
      " 'date': datetime.datetime(2009, 11, 10, 10, 45),\n",
      " 'text': 'and pretty easy too!',\n",
      " 'title': 'MongoDB is fun'}\n",
      "{'_id': ObjectId('5e8707fe5d537a231d0963ed'),\n",
      " 'author': 'Eliot',\n",
      " 'date': datetime.datetime(2009, 11, 10, 10, 45),\n",
      " 'text': 'and pretty easy too!',\n",
      " 'title': 'MongoDB is fun'}\n",
      "{'_id': ObjectId('5e870807dad020cc7faddf18'),\n",
      " 'author': 'Eliot',\n",
      " 'date': datetime.datetime(2009, 11, 10, 10, 45),\n",
      " 'text': 'and pretty easy too!',\n",
      " 'title': 'MongoDB is fun'}\n",
      "{'_id': ObjectId('5e8708110b830cd62f8a47dd'),\n",
      " 'author': 'Eliot',\n",
      " 'date': datetime.datetime(2009, 11, 10, 10, 45),\n",
      " 'text': 'and pretty easy too!',\n",
      " 'title': 'MongoDB is fun'}\n",
      "{'_id': ObjectId('5e87082a86ee0b2b0398e6ef'),\n",
      " 'author': 'Eliot',\n",
      " 'date': datetime.datetime(2009, 11, 10, 10, 45),\n",
      " 'text': 'and pretty easy too!',\n",
      " 'title': 'MongoDB is fun'}\n",
      "{'_id': ObjectId('5e87084ca40d541a70809c70'),\n",
      " 'author': 'Eliot',\n",
      " 'date': datetime.datetime(2009, 11, 10, 10, 45),\n",
      " 'text': 'and pretty easy too!',\n",
      " 'title': 'MongoDB is fun'}\n",
      "{'_id': ObjectId('5e87088223ea4d620dfc1538'),\n",
      " 'author': 'Eliot',\n",
      " 'date': datetime.datetime(2009, 11, 10, 10, 45),\n",
      " 'text': 'and pretty easy too!',\n",
      " 'title': 'MongoDB is fun'}\n",
      "{'_id': ObjectId('5ea2d2848c643944c71f19d9'),\n",
      " 'author': 'Eliot',\n",
      " 'date': datetime.datetime(2009, 11, 10, 10, 45),\n",
      " 'text': 'and pretty easy too!',\n",
      " 'title': 'MongoDB is fun'}\n",
      "{'_id': ObjectId('5e8706b280aa8dca9b4da23c'),\n",
      " 'author': 'Mike',\n",
      " 'date': datetime.datetime(2009, 11, 12, 11, 14),\n",
      " 'tags': ['bulk', 'insert'],\n",
      " 'text': 'Another post!'}\n",
      "{'_id': ObjectId('5e8707842b99470c0e252cf5'),\n",
      " 'author': 'Mike',\n",
      " 'date': datetime.datetime(2009, 11, 12, 11, 14),\n",
      " 'tags': ['bulk', 'insert'],\n",
      " 'text': 'Another post!'}\n",
      "{'_id': ObjectId('5e8707b13e6b74453b26f19a'),\n",
      " 'author': 'Mike',\n",
      " 'date': datetime.datetime(2009, 11, 12, 11, 14),\n",
      " 'tags': ['bulk', 'insert'],\n",
      " 'text': 'Another post!'}\n",
      "{'_id': ObjectId('5e8707fe5d537a231d0963ec'),\n",
      " 'author': 'Mike',\n",
      " 'date': datetime.datetime(2009, 11, 12, 11, 14),\n",
      " 'tags': ['bulk', 'insert'],\n",
      " 'text': 'Another post!'}\n",
      "{'_id': ObjectId('5e870807dad020cc7faddf17'),\n",
      " 'author': 'Mike',\n",
      " 'date': datetime.datetime(2009, 11, 12, 11, 14),\n",
      " 'tags': ['bulk', 'insert'],\n",
      " 'text': 'Another post!'}\n",
      "{'_id': ObjectId('5e8708110b830cd62f8a47dc'),\n",
      " 'author': 'Mike',\n",
      " 'date': datetime.datetime(2009, 11, 12, 11, 14),\n",
      " 'tags': ['bulk', 'insert'],\n",
      " 'text': 'Another post!'}\n",
      "{'_id': ObjectId('5e87082a86ee0b2b0398e6ee'),\n",
      " 'author': 'Mike',\n",
      " 'date': datetime.datetime(2009, 11, 12, 11, 14),\n",
      " 'tags': ['bulk', 'insert'],\n",
      " 'text': 'Another post!'}\n",
      "{'_id': ObjectId('5e87084ca40d541a70809c6f'),\n",
      " 'author': 'Mike',\n",
      " 'date': datetime.datetime(2009, 11, 12, 11, 14),\n",
      " 'tags': ['bulk', 'insert'],\n",
      " 'text': 'Another post!'}\n",
      "{'_id': ObjectId('5e87088223ea4d620dfc1537'),\n",
      " 'author': 'Mike',\n",
      " 'date': datetime.datetime(2009, 11, 12, 11, 14),\n",
      " 'tags': ['bulk', 'insert'],\n",
      " 'text': 'Another post!'}\n",
      "{'_id': ObjectId('5ea2d2848c643944c71f19d8'),\n",
      " 'author': 'Mike',\n",
      " 'date': datetime.datetime(2009, 11, 12, 11, 14),\n",
      " 'tags': ['bulk', 'insert'],\n",
      " 'text': 'Another post!'}\n"
     ]
    }
   ],
   "source": [
    "for post in posts.find({\"date\":{\"$lt\":d}}).sort(\"author\"):\n",
    "        \n",
    "        pprint.pprint(post)"
   ]
  },
  {
   "cell_type": "code",
   "execution_count": 36,
   "metadata": {},
   "outputs": [],
   "source": [
    "result = db.profiles.create_index([('user_id', pymongo.ASCENDING)],\n",
    "                                  unique = True)\n"
   ]
  },
  {
   "cell_type": "code",
   "execution_count": 37,
   "metadata": {},
   "outputs": [
    {
     "data": {
      "text/plain": [
       "'user_id_1'"
      ]
     },
     "execution_count": 37,
     "metadata": {},
     "output_type": "execute_result"
    }
   ],
   "source": [
    "result"
   ]
  },
  {
   "cell_type": "code",
   "execution_count": 39,
   "metadata": {},
   "outputs": [
    {
     "name": "stdout",
     "output_type": "stream",
     "text": [
      "['_id_', 'user_id_1']\n"
     ]
    }
   ],
   "source": [
    "pprint.pprint(sorted(list(db.profiles.index_information())))"
   ]
  },
  {
   "cell_type": "code",
   "execution_count": 40,
   "metadata": {},
   "outputs": [],
   "source": [
    "user_profiles = [\n",
    "        {'user_id' : 211, 'name':'luke'},\n",
    "        {'user_id' : 212,  'name': 'Ziltoid'}]"
   ]
  },
  {
   "cell_type": "code",
   "execution_count": 42,
   "metadata": {
    "scrolled": true
   },
   "outputs": [
    {
     "ename": "BulkWriteError",
     "evalue": "batch op errors occurred",
     "output_type": "error",
     "traceback": [
      "\u001b[1;31m---------------------------------------------------------------------------\u001b[0m",
      "\u001b[1;31mBulkWriteError\u001b[0m                            Traceback (most recent call last)",
      "\u001b[1;32m<ipython-input-42-829eacbe2ba6>\u001b[0m in \u001b[0;36m<module>\u001b[1;34m()\u001b[0m\n\u001b[1;32m----> 1\u001b[1;33m \u001b[0mresult\u001b[0m \u001b[1;33m=\u001b[0m \u001b[0mdb\u001b[0m\u001b[1;33m.\u001b[0m\u001b[0mprofiles\u001b[0m\u001b[1;33m.\u001b[0m\u001b[0minsert_many\u001b[0m\u001b[1;33m(\u001b[0m\u001b[0muser_profiles\u001b[0m\u001b[1;33m)\u001b[0m\u001b[1;33m\u001b[0m\u001b[0m\n\u001b[0m",
      "\u001b[1;32m~\\Anaconda3\\lib\\site-packages\\pymongo\\collection.py\u001b[0m in \u001b[0;36minsert_many\u001b[1;34m(self, documents, ordered, bypass_document_validation, session)\u001b[0m\n\u001b[0;32m    756\u001b[0m         \u001b[0mblk\u001b[0m \u001b[1;33m=\u001b[0m \u001b[0m_Bulk\u001b[0m\u001b[1;33m(\u001b[0m\u001b[0mself\u001b[0m\u001b[1;33m,\u001b[0m \u001b[0mordered\u001b[0m\u001b[1;33m,\u001b[0m \u001b[0mbypass_document_validation\u001b[0m\u001b[1;33m)\u001b[0m\u001b[1;33m\u001b[0m\u001b[0m\n\u001b[0;32m    757\u001b[0m         \u001b[0mblk\u001b[0m\u001b[1;33m.\u001b[0m\u001b[0mops\u001b[0m \u001b[1;33m=\u001b[0m \u001b[1;33m[\u001b[0m\u001b[0mdoc\u001b[0m \u001b[1;32mfor\u001b[0m \u001b[0mdoc\u001b[0m \u001b[1;32min\u001b[0m \u001b[0mgen\u001b[0m\u001b[1;33m(\u001b[0m\u001b[1;33m)\u001b[0m\u001b[1;33m]\u001b[0m\u001b[1;33m\u001b[0m\u001b[0m\n\u001b[1;32m--> 758\u001b[1;33m         \u001b[0mblk\u001b[0m\u001b[1;33m.\u001b[0m\u001b[0mexecute\u001b[0m\u001b[1;33m(\u001b[0m\u001b[0mwrite_concern\u001b[0m\u001b[1;33m,\u001b[0m \u001b[0msession\u001b[0m\u001b[1;33m=\u001b[0m\u001b[0msession\u001b[0m\u001b[1;33m)\u001b[0m\u001b[1;33m\u001b[0m\u001b[0m\n\u001b[0m\u001b[0;32m    759\u001b[0m         \u001b[1;32mreturn\u001b[0m \u001b[0mInsertManyResult\u001b[0m\u001b[1;33m(\u001b[0m\u001b[0minserted_ids\u001b[0m\u001b[1;33m,\u001b[0m \u001b[0mwrite_concern\u001b[0m\u001b[1;33m.\u001b[0m\u001b[0macknowledged\u001b[0m\u001b[1;33m)\u001b[0m\u001b[1;33m\u001b[0m\u001b[0m\n\u001b[0;32m    760\u001b[0m \u001b[1;33m\u001b[0m\u001b[0m\n",
      "\u001b[1;32m~\\Anaconda3\\lib\\site-packages\\pymongo\\bulk.py\u001b[0m in \u001b[0;36mexecute\u001b[1;34m(self, write_concern, session)\u001b[0m\n\u001b[0;32m    509\u001b[0m                 \u001b[0mself\u001b[0m\u001b[1;33m.\u001b[0m\u001b[0mexecute_no_results\u001b[0m\u001b[1;33m(\u001b[0m\u001b[0msock_info\u001b[0m\u001b[1;33m,\u001b[0m \u001b[0mgenerator\u001b[0m\u001b[1;33m)\u001b[0m\u001b[1;33m\u001b[0m\u001b[0m\n\u001b[0;32m    510\u001b[0m         \u001b[1;32melse\u001b[0m\u001b[1;33m:\u001b[0m\u001b[1;33m\u001b[0m\u001b[0m\n\u001b[1;32m--> 511\u001b[1;33m             \u001b[1;32mreturn\u001b[0m \u001b[0mself\u001b[0m\u001b[1;33m.\u001b[0m\u001b[0mexecute_command\u001b[0m\u001b[1;33m(\u001b[0m\u001b[0mgenerator\u001b[0m\u001b[1;33m,\u001b[0m \u001b[0mwrite_concern\u001b[0m\u001b[1;33m,\u001b[0m \u001b[0msession\u001b[0m\u001b[1;33m)\u001b[0m\u001b[1;33m\u001b[0m\u001b[0m\n\u001b[0m\u001b[0;32m    512\u001b[0m \u001b[1;33m\u001b[0m\u001b[0m\n\u001b[0;32m    513\u001b[0m \u001b[1;33m\u001b[0m\u001b[0m\n",
      "\u001b[1;32m~\\Anaconda3\\lib\\site-packages\\pymongo\\bulk.py\u001b[0m in \u001b[0;36mexecute_command\u001b[1;34m(self, generator, write_concern, session)\u001b[0m\n\u001b[0;32m    347\u001b[0m \u001b[1;33m\u001b[0m\u001b[0m\n\u001b[0;32m    348\u001b[0m         \u001b[1;32mif\u001b[0m \u001b[0mfull_result\u001b[0m\u001b[1;33m[\u001b[0m\u001b[1;34m\"writeErrors\"\u001b[0m\u001b[1;33m]\u001b[0m \u001b[1;32mor\u001b[0m \u001b[0mfull_result\u001b[0m\u001b[1;33m[\u001b[0m\u001b[1;34m\"writeConcernErrors\"\u001b[0m\u001b[1;33m]\u001b[0m\u001b[1;33m:\u001b[0m\u001b[1;33m\u001b[0m\u001b[0m\n\u001b[1;32m--> 349\u001b[1;33m             \u001b[0m_raise_bulk_write_error\u001b[0m\u001b[1;33m(\u001b[0m\u001b[0mfull_result\u001b[0m\u001b[1;33m)\u001b[0m\u001b[1;33m\u001b[0m\u001b[0m\n\u001b[0m\u001b[0;32m    350\u001b[0m         \u001b[1;32mreturn\u001b[0m \u001b[0mfull_result\u001b[0m\u001b[1;33m\u001b[0m\u001b[0m\n\u001b[0;32m    351\u001b[0m \u001b[1;33m\u001b[0m\u001b[0m\n",
      "\u001b[1;32m~\\Anaconda3\\lib\\site-packages\\pymongo\\bulk.py\u001b[0m in \u001b[0;36m_raise_bulk_write_error\u001b[1;34m(full_result)\u001b[0m\n\u001b[0;32m    138\u001b[0m         full_result[\"writeErrors\"].sort(\n\u001b[0;32m    139\u001b[0m             key=lambda error: error[\"index\"])\n\u001b[1;32m--> 140\u001b[1;33m     \u001b[1;32mraise\u001b[0m \u001b[0mBulkWriteError\u001b[0m\u001b[1;33m(\u001b[0m\u001b[0mfull_result\u001b[0m\u001b[1;33m)\u001b[0m\u001b[1;33m\u001b[0m\u001b[0m\n\u001b[0m\u001b[0;32m    141\u001b[0m \u001b[1;33m\u001b[0m\u001b[0m\n\u001b[0;32m    142\u001b[0m \u001b[1;33m\u001b[0m\u001b[0m\n",
      "\u001b[1;31mBulkWriteError\u001b[0m: batch op errors occurred"
     ]
    }
   ],
   "source": [
    "result = db.profiles.insert_many(user_profiles)"
   ]
  },
  {
   "cell_type": "code",
   "execution_count": 43,
   "metadata": {},
   "outputs": [],
   "source": [
    "new_profile = {'user_id': 213, 'name':'Drew'}\n",
    "duplicate_profile = {'user_id':212, 'name': 'Tommy'}\n"
   ]
  },
  {
   "cell_type": "code",
   "execution_count": 44,
   "metadata": {},
   "outputs": [
    {
     "ename": "DuplicateKeyError",
     "evalue": "E11000 duplicate key error collection: test-database.profiles index: user_id_1 dup key: { user_id: 213 }",
     "output_type": "error",
     "traceback": [
      "\u001b[1;31m---------------------------------------------------------------------------\u001b[0m",
      "\u001b[1;31mDuplicateKeyError\u001b[0m                         Traceback (most recent call last)",
      "\u001b[1;32m<ipython-input-44-0a23ee1f7eb2>\u001b[0m in \u001b[0;36m<module>\u001b[1;34m()\u001b[0m\n\u001b[1;32m----> 1\u001b[1;33m \u001b[0mresult\u001b[0m \u001b[1;33m=\u001b[0m \u001b[0mdb\u001b[0m\u001b[1;33m.\u001b[0m\u001b[0mprofiles\u001b[0m\u001b[1;33m.\u001b[0m\u001b[0minsert_one\u001b[0m\u001b[1;33m(\u001b[0m\u001b[0mnew_profile\u001b[0m\u001b[1;33m)\u001b[0m\u001b[1;33m\u001b[0m\u001b[0m\n\u001b[0m\u001b[0;32m      2\u001b[0m \u001b[0mresult\u001b[0m \u001b[1;33m=\u001b[0m \u001b[0mdb\u001b[0m\u001b[1;33m.\u001b[0m\u001b[0mprofiles\u001b[0m\u001b[1;33m.\u001b[0m\u001b[0minsert_one\u001b[0m\u001b[1;33m(\u001b[0m\u001b[0mduplicate_profile\u001b[0m\u001b[1;33m)\u001b[0m\u001b[1;33m\u001b[0m\u001b[0m\n",
      "\u001b[1;32m~\\Anaconda3\\lib\\site-packages\\pymongo\\collection.py\u001b[0m in \u001b[0;36minsert_one\u001b[1;34m(self, document, bypass_document_validation, session)\u001b[0m\n\u001b[0;32m    696\u001b[0m                          \u001b[0mwrite_concern\u001b[0m\u001b[1;33m=\u001b[0m\u001b[0mwrite_concern\u001b[0m\u001b[1;33m,\u001b[0m\u001b[1;33m\u001b[0m\u001b[0m\n\u001b[0;32m    697\u001b[0m                          \u001b[0mbypass_doc_val\u001b[0m\u001b[1;33m=\u001b[0m\u001b[0mbypass_document_validation\u001b[0m\u001b[1;33m,\u001b[0m\u001b[1;33m\u001b[0m\u001b[0m\n\u001b[1;32m--> 698\u001b[1;33m                          session=session),\n\u001b[0m\u001b[0;32m    699\u001b[0m             write_concern.acknowledged)\n\u001b[0;32m    700\u001b[0m \u001b[1;33m\u001b[0m\u001b[0m\n",
      "\u001b[1;32m~\\Anaconda3\\lib\\site-packages\\pymongo\\collection.py\u001b[0m in \u001b[0;36m_insert\u001b[1;34m(self, docs, ordered, check_keys, manipulate, write_concern, op_id, bypass_doc_val, session)\u001b[0m\n\u001b[0;32m    610\u001b[0m             return self._insert_one(\n\u001b[0;32m    611\u001b[0m                 \u001b[0mdocs\u001b[0m\u001b[1;33m,\u001b[0m \u001b[0mordered\u001b[0m\u001b[1;33m,\u001b[0m \u001b[0mcheck_keys\u001b[0m\u001b[1;33m,\u001b[0m \u001b[0mmanipulate\u001b[0m\u001b[1;33m,\u001b[0m \u001b[0mwrite_concern\u001b[0m\u001b[1;33m,\u001b[0m \u001b[0mop_id\u001b[0m\u001b[1;33m,\u001b[0m\u001b[1;33m\u001b[0m\u001b[0m\n\u001b[1;32m--> 612\u001b[1;33m                 bypass_doc_val, session)\n\u001b[0m\u001b[0;32m    613\u001b[0m \u001b[1;33m\u001b[0m\u001b[0m\n\u001b[0;32m    614\u001b[0m         \u001b[0mids\u001b[0m \u001b[1;33m=\u001b[0m \u001b[1;33m[\u001b[0m\u001b[1;33m]\u001b[0m\u001b[1;33m\u001b[0m\u001b[0m\n",
      "\u001b[1;32m~\\Anaconda3\\lib\\site-packages\\pymongo\\collection.py\u001b[0m in \u001b[0;36m_insert_one\u001b[1;34m(self, doc, ordered, check_keys, manipulate, write_concern, op_id, bypass_doc_val, session)\u001b[0m\n\u001b[0;32m    598\u001b[0m \u001b[1;33m\u001b[0m\u001b[0m\n\u001b[0;32m    599\u001b[0m         self.__database.client._retryable_write(\n\u001b[1;32m--> 600\u001b[1;33m             acknowledged, _insert_command, session)\n\u001b[0m\u001b[0;32m    601\u001b[0m \u001b[1;33m\u001b[0m\u001b[0m\n\u001b[0;32m    602\u001b[0m         \u001b[1;32mif\u001b[0m \u001b[1;32mnot\u001b[0m \u001b[0misinstance\u001b[0m\u001b[1;33m(\u001b[0m\u001b[0mdoc\u001b[0m\u001b[1;33m,\u001b[0m \u001b[0mRawBSONDocument\u001b[0m\u001b[1;33m)\u001b[0m\u001b[1;33m:\u001b[0m\u001b[1;33m\u001b[0m\u001b[0m\n",
      "\u001b[1;32m~\\Anaconda3\\lib\\site-packages\\pymongo\\mongo_client.py\u001b[0m in \u001b[0;36m_retryable_write\u001b[1;34m(self, retryable, func, session)\u001b[0m\n\u001b[0;32m   1489\u001b[0m         \u001b[1;34m\"\"\"Internal retryable write helper.\"\"\"\u001b[0m\u001b[1;33m\u001b[0m\u001b[0m\n\u001b[0;32m   1490\u001b[0m         \u001b[1;32mwith\u001b[0m \u001b[0mself\u001b[0m\u001b[1;33m.\u001b[0m\u001b[0m_tmp_session\u001b[0m\u001b[1;33m(\u001b[0m\u001b[0msession\u001b[0m\u001b[1;33m)\u001b[0m \u001b[1;32mas\u001b[0m \u001b[0ms\u001b[0m\u001b[1;33m:\u001b[0m\u001b[1;33m\u001b[0m\u001b[0m\n\u001b[1;32m-> 1491\u001b[1;33m             \u001b[1;32mreturn\u001b[0m \u001b[0mself\u001b[0m\u001b[1;33m.\u001b[0m\u001b[0m_retry_with_session\u001b[0m\u001b[1;33m(\u001b[0m\u001b[0mretryable\u001b[0m\u001b[1;33m,\u001b[0m \u001b[0mfunc\u001b[0m\u001b[1;33m,\u001b[0m \u001b[0ms\u001b[0m\u001b[1;33m,\u001b[0m \u001b[1;32mNone\u001b[0m\u001b[1;33m)\u001b[0m\u001b[1;33m\u001b[0m\u001b[0m\n\u001b[0m\u001b[0;32m   1492\u001b[0m \u001b[1;33m\u001b[0m\u001b[0m\n\u001b[0;32m   1493\u001b[0m     \u001b[1;32mdef\u001b[0m \u001b[0m_reset_server\u001b[0m\u001b[1;33m(\u001b[0m\u001b[0mself\u001b[0m\u001b[1;33m,\u001b[0m \u001b[0maddress\u001b[0m\u001b[1;33m)\u001b[0m\u001b[1;33m:\u001b[0m\u001b[1;33m\u001b[0m\u001b[0m\n",
      "\u001b[1;32m~\\Anaconda3\\lib\\site-packages\\pymongo\\mongo_client.py\u001b[0m in \u001b[0;36m_retry_with_session\u001b[1;34m(self, retryable, func, session, bulk)\u001b[0m\n\u001b[0;32m   1382\u001b[0m                             \u001b[1;32mraise\u001b[0m \u001b[0mlast_error\u001b[0m\u001b[1;33m\u001b[0m\u001b[0m\n\u001b[0;32m   1383\u001b[0m                         \u001b[0mretryable\u001b[0m \u001b[1;33m=\u001b[0m \u001b[1;32mFalse\u001b[0m\u001b[1;33m\u001b[0m\u001b[0m\n\u001b[1;32m-> 1384\u001b[1;33m                     \u001b[1;32mreturn\u001b[0m \u001b[0mfunc\u001b[0m\u001b[1;33m(\u001b[0m\u001b[0msession\u001b[0m\u001b[1;33m,\u001b[0m \u001b[0msock_info\u001b[0m\u001b[1;33m,\u001b[0m \u001b[0mretryable\u001b[0m\u001b[1;33m)\u001b[0m\u001b[1;33m\u001b[0m\u001b[0m\n\u001b[0m\u001b[0;32m   1385\u001b[0m             \u001b[1;32mexcept\u001b[0m \u001b[0mServerSelectionTimeoutError\u001b[0m\u001b[1;33m:\u001b[0m\u001b[1;33m\u001b[0m\u001b[0m\n\u001b[0;32m   1386\u001b[0m                 \u001b[1;32mif\u001b[0m \u001b[0mis_retrying\u001b[0m\u001b[1;33m(\u001b[0m\u001b[1;33m)\u001b[0m\u001b[1;33m:\u001b[0m\u001b[1;33m\u001b[0m\u001b[0m\n",
      "\u001b[1;32m~\\Anaconda3\\lib\\site-packages\\pymongo\\collection.py\u001b[0m in \u001b[0;36m_insert_command\u001b[1;34m(session, sock_info, retryable_write)\u001b[0m\n\u001b[0;32m    595\u001b[0m                 retryable_write=retryable_write)\n\u001b[0;32m    596\u001b[0m \u001b[1;33m\u001b[0m\u001b[0m\n\u001b[1;32m--> 597\u001b[1;33m             \u001b[0m_check_write_command_response\u001b[0m\u001b[1;33m(\u001b[0m\u001b[0mresult\u001b[0m\u001b[1;33m)\u001b[0m\u001b[1;33m\u001b[0m\u001b[0m\n\u001b[0m\u001b[0;32m    598\u001b[0m \u001b[1;33m\u001b[0m\u001b[0m\n\u001b[0;32m    599\u001b[0m         self.__database.client._retryable_write(\n",
      "\u001b[1;32m~\\Anaconda3\\lib\\site-packages\\pymongo\\helpers.py\u001b[0m in \u001b[0;36m_check_write_command_response\u001b[1;34m(result)\u001b[0m\n\u001b[0;32m    219\u001b[0m     \u001b[0mwrite_errors\u001b[0m \u001b[1;33m=\u001b[0m \u001b[0mresult\u001b[0m\u001b[1;33m.\u001b[0m\u001b[0mget\u001b[0m\u001b[1;33m(\u001b[0m\u001b[1;34m\"writeErrors\"\u001b[0m\u001b[1;33m)\u001b[0m\u001b[1;33m\u001b[0m\u001b[0m\n\u001b[0;32m    220\u001b[0m     \u001b[1;32mif\u001b[0m \u001b[0mwrite_errors\u001b[0m\u001b[1;33m:\u001b[0m\u001b[1;33m\u001b[0m\u001b[0m\n\u001b[1;32m--> 221\u001b[1;33m         \u001b[0m_raise_last_write_error\u001b[0m\u001b[1;33m(\u001b[0m\u001b[0mwrite_errors\u001b[0m\u001b[1;33m)\u001b[0m\u001b[1;33m\u001b[0m\u001b[0m\n\u001b[0m\u001b[0;32m    222\u001b[0m \u001b[1;33m\u001b[0m\u001b[0m\n\u001b[0;32m    223\u001b[0m     \u001b[0merror\u001b[0m \u001b[1;33m=\u001b[0m \u001b[0mresult\u001b[0m\u001b[1;33m.\u001b[0m\u001b[0mget\u001b[0m\u001b[1;33m(\u001b[0m\u001b[1;34m\"writeConcernError\"\u001b[0m\u001b[1;33m)\u001b[0m\u001b[1;33m\u001b[0m\u001b[0m\n",
      "\u001b[1;32m~\\Anaconda3\\lib\\site-packages\\pymongo\\helpers.py\u001b[0m in \u001b[0;36m_raise_last_write_error\u001b[1;34m(write_errors)\u001b[0m\n\u001b[0;32m    200\u001b[0m     \u001b[0merror\u001b[0m \u001b[1;33m=\u001b[0m \u001b[0mwrite_errors\u001b[0m\u001b[1;33m[\u001b[0m\u001b[1;33m-\u001b[0m\u001b[1;36m1\u001b[0m\u001b[1;33m]\u001b[0m\u001b[1;33m\u001b[0m\u001b[0m\n\u001b[0;32m    201\u001b[0m     \u001b[1;32mif\u001b[0m \u001b[0merror\u001b[0m\u001b[1;33m.\u001b[0m\u001b[0mget\u001b[0m\u001b[1;33m(\u001b[0m\u001b[1;34m\"code\"\u001b[0m\u001b[1;33m)\u001b[0m \u001b[1;33m==\u001b[0m \u001b[1;36m11000\u001b[0m\u001b[1;33m:\u001b[0m\u001b[1;33m\u001b[0m\u001b[0m\n\u001b[1;32m--> 202\u001b[1;33m         \u001b[1;32mraise\u001b[0m \u001b[0mDuplicateKeyError\u001b[0m\u001b[1;33m(\u001b[0m\u001b[0merror\u001b[0m\u001b[1;33m.\u001b[0m\u001b[0mget\u001b[0m\u001b[1;33m(\u001b[0m\u001b[1;34m\"errmsg\"\u001b[0m\u001b[1;33m)\u001b[0m\u001b[1;33m,\u001b[0m \u001b[1;36m11000\u001b[0m\u001b[1;33m,\u001b[0m \u001b[0merror\u001b[0m\u001b[1;33m)\u001b[0m\u001b[1;33m\u001b[0m\u001b[0m\n\u001b[0m\u001b[0;32m    203\u001b[0m     \u001b[1;32mraise\u001b[0m \u001b[0mWriteError\u001b[0m\u001b[1;33m(\u001b[0m\u001b[0merror\u001b[0m\u001b[1;33m.\u001b[0m\u001b[0mget\u001b[0m\u001b[1;33m(\u001b[0m\u001b[1;34m\"errmsg\"\u001b[0m\u001b[1;33m)\u001b[0m\u001b[1;33m,\u001b[0m \u001b[0merror\u001b[0m\u001b[1;33m.\u001b[0m\u001b[0mget\u001b[0m\u001b[1;33m(\u001b[0m\u001b[1;34m\"code\"\u001b[0m\u001b[1;33m)\u001b[0m\u001b[1;33m,\u001b[0m \u001b[0merror\u001b[0m\u001b[1;33m)\u001b[0m\u001b[1;33m\u001b[0m\u001b[0m\n\u001b[0;32m    204\u001b[0m \u001b[1;33m\u001b[0m\u001b[0m\n",
      "\u001b[1;31mDuplicateKeyError\u001b[0m: E11000 duplicate key error collection: test-database.profiles index: user_id_1 dup key: { user_id: 213 }"
     ]
    }
   ],
   "source": [
    "result = db.profiles.insert_one(new_profile)\n",
    "result = db.profiles.insert_one(duplicate_profile)"
   ]
  },
  {
   "cell_type": "code",
   "execution_count": 45,
   "metadata": {},
   "outputs": [],
   "source": [
    "db  = MongoClient().aggregation_example\n",
    "result = db.things.insert_many([{\"x\": 1, \"tags\": [\"dog\",\"cat\"]},\n",
    "                                {\"x\":2, \"tags\" : [\"cat\"]},\n",
    "                                {\"x\":2 , \"tags\" : [\"mouse\", \"cat\", \"dog\"]},\n",
    "                                {\"x\": 3, \"tags\":[]}])\n"
   ]
  },
  {
   "cell_type": "code",
   "execution_count": 46,
   "metadata": {},
   "outputs": [
    {
     "data": {
      "text/plain": [
       "[ObjectId('5ea2dc948c643944c71f19de'),\n",
       " ObjectId('5ea2dc948c643944c71f19df'),\n",
       " ObjectId('5ea2dc948c643944c71f19e0'),\n",
       " ObjectId('5ea2dc948c643944c71f19e1')]"
      ]
     },
     "execution_count": 46,
     "metadata": {},
     "output_type": "execute_result"
    }
   ],
   "source": [
    "result.inserted_ids"
   ]
  },
  {
   "cell_type": "code",
   "execution_count": 47,
   "metadata": {},
   "outputs": [],
   "source": [
    "from bson.son import SON\n",
    "\n",
    "pipeline = [\n",
    "        {\"$unwind\" : \"$tags\"},\n",
    "        {\"$group\" : {\"_id\":\"$tags\", \"count\": {\"$sum\":1}}},\n",
    "        {\"$sort\": SON([(\"count\", -1),(\"_id\",-1)])}\n",
    "]"
   ]
  },
  {
   "cell_type": "code",
   "execution_count": 48,
   "metadata": {},
   "outputs": [
    {
     "name": "stdout",
     "output_type": "stream",
     "text": [
      "[{'_id': 'cat', 'count': 9},\n",
      " {'_id': 'dog', 'count': 6},\n",
      " {'_id': 'mouse', 'count': 3}]\n"
     ]
    },
    {
     "data": {
      "text/plain": [
       "{'stages': [{'$cursor': {'query': {},\n",
       "    'fields': {'tags': 1, '_id': 0},\n",
       "    'queryPlanner': {'plannerVersion': 1,\n",
       "     'namespace': 'aggregation_example.things',\n",
       "     'indexFilterSet': False,\n",
       "     'parsedQuery': {},\n",
       "     'queryHash': '8B3D4AB8',\n",
       "     'planCacheKey': '8B3D4AB8',\n",
       "     'winningPlan': {'stage': 'COLLSCAN', 'direction': 'forward'},\n",
       "     'rejectedPlans': []}}},\n",
       "  {'$unwind': {'path': '$tags'}},\n",
       "  {'$group': {'_id': '$tags', 'count': {'$sum': {'$const': 1}}}},\n",
       "  {'$sort': {'sortKey': {'count': -1, '_id': -1}}}],\n",
       " 'serverInfo': {'host': 'DESKTOP-GBU3DLR',\n",
       "  'port': 27017,\n",
       "  'version': '4.2.5',\n",
       "  'gitVersion': '2261279b51ea13df08ae708ff278f0679c59dc32'},\n",
       " 'ok': 1.0}"
      ]
     },
     "execution_count": 48,
     "metadata": {},
     "output_type": "execute_result"
    }
   ],
   "source": [
    "pprint.pprint(list(db.things.aggregate(pipeline)))\n",
    "\n",
    "db.command('aggregate', 'things', pipeline = pipeline, explain = True)"
   ]
  },
  {
   "cell_type": "code",
   "execution_count": 49,
   "metadata": {},
   "outputs": [],
   "source": [
    "\n",
    "\n",
    "from pymongo import MongoClient\n",
    "\n",
    "\n",
    "class MongoConnection(object):\n",
    "\n",
    "    def __init__(self):\n",
    "        client = MongoClient('localhost', 27017)\n",
    "        self.db = client['database_name']\n",
    "\n",
    "    def get_collection(self, name):\n",
    "        self.collection = self.db[name]\n",
    "\n",
    "\n",
    "class MyCollection(MongoConnection):\n",
    "\n",
    "    def __init__(self):\n",
    "        super(MyCollection, self).__init__()\n",
    "        self.get_collection('collection_name')\n",
    "\n",
    "    def update_and_save(self, obj):\n",
    "        if self.collection.find({'id': obj.id}).count():\n",
    "            self.collection.update({ \"id\": obj.id},{'id':123,'name':'test'})\n",
    "        else:\n",
    "            self.collection.insert_one({'id':123,'name':'test'})\n",
    "\n",
    "    def remove(self, obj):\n",
    "        if self.collection.find({'id': obj.id}).count():\n",
    "            self.collection.delete_one({ \"id\": obj.id})\n",
    "\n",
    "\n",
    "\n"
   ]
  },
  {
   "cell_type": "code",
   "execution_count": 50,
   "metadata": {},
   "outputs": [],
   "source": [
    "my_col_obj = MyCollection()\n",
    "\n"
   ]
  },
  {
   "cell_type": "code",
   "execution_count": null,
   "metadata": {},
   "outputs": [],
   "source": []
  },
  {
   "cell_type": "code",
   "execution_count": 100,
   "metadata": {},
   "outputs": [],
   "source": [
    "from pymongo import MongoClient\n",
    "\n",
    "\n",
    "class MongoConnection(object):\n",
    "\n",
    "    def __init__(self):\n",
    "        client = MongoClient('localhost', 27017)\n",
    "        self.db = client['database_name']\n",
    "\n",
    "    def get_collection(self, name):\n",
    "        self.collection = self.db[name]\n",
    "\n",
    "\n",
    "class MyCollection(MongoConnection):\n",
    "\n",
    "\n",
    "    def __init__(self):\n",
    "        super(MyCollection, self).__init__()\n",
    "        self.get_collection('collection_name')\n",
    "\n",
    "    def update_and_save(self, obj):\n",
    "        if self.collection.find({'id': obj.id}).count():\n",
    "            self.collection.update({\"id\": obj.id},{'id':123,'name':'test'})\n",
    "        else:\n",
    "            self.collection.insert_one({'id':123,'name':'test'})\n",
    "\n",
    "    def remove(self, obj):\n",
    "        if self.collection.find({'id': obj.id}).count():\n",
    "            self.collection.delete_one({ \"id\": obj.id})\n"
   ]
  },
  {
   "cell_type": "code",
   "execution_count": 101,
   "metadata": {},
   "outputs": [],
   "source": [
    "Lair1 = MyCollection()"
   ]
  },
  {
   "cell_type": "code",
   "execution_count": 137,
   "metadata": {},
   "outputs": [],
   "source": [
    "myclient = pymongo.MongoClient(\"mongodb://localhost:27017/\")\n",
    "mydb = myclient[\"lairdatabase\"]\n",
    "mycol = mydb[\"users\"]"
   ]
  },
  {
   "cell_type": "code",
   "execution_count": 210,
   "metadata": {},
   "outputs": [],
   "source": [
    "def add_user(col,name,password):\n",
    "    \n",
    "    name = name\n",
    "    \n",
    "    if col.find({'username': name}).count():\n",
    "        pass\n",
    "    else:\n",
    "        col.insert_one({'username':name,'Password':password})\n",
    "        \n",
    "    return name"
   ]
  },
  {
   "cell_type": "code",
   "execution_count": 174,
   "metadata": {},
   "outputs": [],
   "source": [
    "newf = {'courses1' : {'coursecode': {'coureunit':' ','score': ' ' }}}"
   ]
  },
  {
   "cell_type": "code",
   "execution_count": 211,
   "metadata": {},
   "outputs": [
    {
     "ename": "TypeError",
     "evalue": "insert_one() missing 1 required positional argument: 'document'",
     "output_type": "error",
     "traceback": [
      "\u001b[1;31m---------------------------------------------------------------------------\u001b[0m",
      "\u001b[1;31mTypeError\u001b[0m                                 Traceback (most recent call last)",
      "\u001b[1;32m<ipython-input-211-2d406b666690>\u001b[0m in \u001b[0;36m<module>\u001b[1;34m()\u001b[0m\n\u001b[1;32m----> 1\u001b[1;33m \u001b[0mposts\u001b[0m\u001b[1;33m.\u001b[0m\u001b[0minsert_one\u001b[0m\u001b[1;33m(\u001b[0m\u001b[1;33m)\u001b[0m\u001b[1;33m\u001b[0m\u001b[0m\n\u001b[0m",
      "\u001b[1;31mTypeError\u001b[0m: insert_one() missing 1 required positional argument: 'document'"
     ]
    }
   ],
   "source": [
    "posts.insert_one()"
   ]
  },
  {
   "cell_type": "code",
   "execution_count": 214,
   "metadata": {},
   "outputs": [
    {
     "name": "stderr",
     "output_type": "stream",
     "text": [
      "'pymongo' is not recognized as an internal or external command,\n",
      "operable program or batch file.\n"
     ]
    }
   ],
   "source": [
    "!pymongo myDB"
   ]
  },
  {
   "cell_type": "code",
   "execution_count": null,
   "metadata": {},
   "outputs": [],
   "source": []
  },
  {
   "cell_type": "code",
   "execution_count": null,
   "metadata": {},
   "outputs": [],
   "source": []
  },
  {
   "cell_type": "code",
   "execution_count": null,
   "metadata": {},
   "outputs": [],
   "source": []
  },
  {
   "cell_type": "code",
   "execution_count": 245,
   "metadata": {},
   "outputs": [
    {
     "data": {
      "text/plain": [
       "<pymongo.results.UpdateResult at 0x2c58961ac88>"
      ]
     },
     "execution_count": 245,
     "metadata": {},
     "output_type": "execute_result"
    }
   ],
   "source": [
    "posts.update_many({'author':'Mike'},{\"$set\": {'text':'lol','courses':{'course1': {'coursecode':'','courseunit':' ','score': ' ' }, 'course2': {'coursecode':'','courseunit':' ','score': ' ' } }}})"
   ]
  },
  {
   "cell_type": "code",
   "execution_count": 246,
   "metadata": {},
   "outputs": [
    {
     "name": "stdout",
     "output_type": "stream",
     "text": [
      "{'_id': ObjectId('5e8706b280aa8dca9b4da23c'), 'author': 'Mike', 'text': 'lol', 'tags': ['bulk', 'insert'], 'date': datetime.datetime(2009, 11, 12, 11, 14), 'courses': {'course1': {'coursecode': '', 'courseunit': ' ', 'score': ' '}, 'course2': {'coursecode': '', 'courseunit': ' ', 'score': ' '}}}\n",
      "{'_id': ObjectId('5e8707842b99470c0e252cf5'), 'author': 'Mike', 'text': 'lol', 'tags': ['bulk', 'insert'], 'date': datetime.datetime(2009, 11, 12, 11, 14), 'courses': {'course1': {'coursecode': '', 'courseunit': ' ', 'score': ' '}, 'course2': {'coursecode': '', 'courseunit': ' ', 'score': ' '}}}\n",
      "{'_id': ObjectId('5e8707b13e6b74453b26f19a'), 'author': 'Mike', 'text': 'lol', 'tags': ['bulk', 'insert'], 'date': datetime.datetime(2009, 11, 12, 11, 14), 'courses': {'course1': {'coursecode': '', 'courseunit': ' ', 'score': ' '}, 'course2': {'coursecode': '', 'courseunit': ' ', 'score': ' '}}}\n",
      "{'_id': ObjectId('5e8707fe5d537a231d0963ec'), 'author': 'Mike', 'text': 'lol', 'tags': ['bulk', 'insert'], 'date': datetime.datetime(2009, 11, 12, 11, 14), 'courses': {'course1': {'coursecode': '', 'courseunit': ' ', 'score': ' '}, 'course2': {'coursecode': '', 'courseunit': ' ', 'score': ' '}}}\n",
      "{'_id': ObjectId('5e870807dad020cc7faddf17'), 'author': 'Mike', 'text': 'lol', 'tags': ['bulk', 'insert'], 'date': datetime.datetime(2009, 11, 12, 11, 14), 'courses': {'course1': {'coursecode': '', 'courseunit': ' ', 'score': ' '}, 'course2': {'coursecode': '', 'courseunit': ' ', 'score': ' '}}}\n",
      "{'_id': ObjectId('5e8708110b830cd62f8a47dc'), 'author': 'Mike', 'text': 'lol', 'tags': ['bulk', 'insert'], 'date': datetime.datetime(2009, 11, 12, 11, 14), 'courses': {'course1': {'coursecode': '', 'courseunit': ' ', 'score': ' '}, 'course2': {'coursecode': '', 'courseunit': ' ', 'score': ' '}}}\n",
      "{'_id': ObjectId('5e87082a86ee0b2b0398e6ee'), 'author': 'Mike', 'text': 'lol', 'tags': ['bulk', 'insert'], 'date': datetime.datetime(2009, 11, 12, 11, 14), 'courses': {'course1': {'coursecode': '', 'courseunit': ' ', 'score': ' '}, 'course2': {'coursecode': '', 'courseunit': ' ', 'score': ' '}}}\n",
      "{'_id': ObjectId('5e87084ca40d541a70809c6f'), 'author': 'Mike', 'text': 'lol', 'tags': ['bulk', 'insert'], 'date': datetime.datetime(2009, 11, 12, 11, 14), 'courses': {'course1': {'coursecode': '', 'courseunit': ' ', 'score': ' '}, 'course2': {'coursecode': '', 'courseunit': ' ', 'score': ' '}}}\n",
      "{'_id': ObjectId('5e87088223ea4d620dfc1537'), 'author': 'Mike', 'text': 'lol', 'tags': ['bulk', 'insert'], 'date': datetime.datetime(2009, 11, 12, 11, 14), 'courses': {'course1': {'coursecode': '', 'courseunit': ' ', 'score': ' '}, 'course2': {'coursecode': '', 'courseunit': ' ', 'score': ' '}}}\n",
      "{'_id': ObjectId('5ea2d2848c643944c71f19d8'), 'author': 'Mike', 'text': 'lol', 'tags': ['bulk', 'insert'], 'date': datetime.datetime(2009, 11, 12, 11, 14), 'courses': {'course1': {'coursecode': '', 'courseunit': ' ', 'score': ' '}, 'course2': {'coursecode': '', 'courseunit': ' ', 'score': ' '}}}\n"
     ]
    }
   ],
   "source": [
    "for io in posts.find({'author':'Mike'}):\n",
    "    print(io)"
   ]
  },
  {
   "cell_type": "code",
   "execution_count": 260,
   "metadata": {},
   "outputs": [
    {
     "data": {
      "text/plain": [
       "''"
      ]
     },
     "execution_count": 260,
     "metadata": {},
     "output_type": "execute_result"
    }
   ],
   "source": [
    "io['courses']['course2']['coursecode']"
   ]
  },
  {
   "cell_type": "code",
   "execution_count": 266,
   "metadata": {},
   "outputs": [
    {
     "data": {
      "text/plain": [
       "<pymongo.results.UpdateResult at 0x2c5896749c8>"
      ]
     },
     "execution_count": 266,
     "metadata": {},
     "output_type": "execute_result"
    }
   ],
   "source": [
    "posts.update_many({'author':'Mike'},\n",
    "                  {\"$set\": {'courses':{'coursecodes': [''],\n",
    "                                      'courseunits': [''],\n",
    "                                       'scores':['']}}})"
   ]
  },
  {
   "cell_type": "code",
   "execution_count": 329,
   "metadata": {},
   "outputs": [
    {
     "name": "stdout",
     "output_type": "stream",
     "text": [
      "{'_id': ObjectId('5e8706b280aa8dca9b4da23c'), 'author': 'Mike', 'text': 'lol', 'tags': ['bulk', 'insert'], 'date': datetime.datetime(2009, 11, 12, 11, 14), 'courses': {'coursecodes': ['', 'CHG303'], 'courseunits': ['', 3, 3, 3, 3], 'scores': ['']}}\n",
      "{'_id': ObjectId('5e8707842b99470c0e252cf5'), 'author': 'Mike', 'text': 'lol', 'tags': ['bulk', 'insert'], 'date': datetime.datetime(2009, 11, 12, 11, 14), 'courses': {'coursecodes': ['', 'CHG303'], 'courseunits': ['', 3, 3, 3, 3], 'scores': ['']}}\n",
      "{'_id': ObjectId('5e8707b13e6b74453b26f19a'), 'author': 'Mike', 'text': 'lol', 'tags': ['bulk', 'insert'], 'date': datetime.datetime(2009, 11, 12, 11, 14), 'courses': {'coursecodes': ['', 'CHG303'], 'courseunits': ['', 3, 3, 3, 3], 'scores': ['']}}\n",
      "{'_id': ObjectId('5e8707fe5d537a231d0963ec'), 'author': 'Mike', 'text': 'lol', 'tags': ['bulk', 'insert'], 'date': datetime.datetime(2009, 11, 12, 11, 14), 'courses': {'coursecodes': ['', 'CHG303'], 'courseunits': ['', 3, 3, 3, 3], 'scores': ['']}}\n",
      "{'_id': ObjectId('5e870807dad020cc7faddf17'), 'author': 'Mike', 'text': 'lol', 'tags': ['bulk', 'insert'], 'date': datetime.datetime(2009, 11, 12, 11, 14), 'courses': {'coursecodes': ['', 'CHG303'], 'courseunits': ['', 3, 3, 3, 3], 'scores': ['']}}\n",
      "{'_id': ObjectId('5e8708110b830cd62f8a47dc'), 'author': 'Mike', 'text': 'lol', 'tags': ['bulk', 'insert'], 'date': datetime.datetime(2009, 11, 12, 11, 14), 'courses': {'coursecodes': ['', 'CHG303'], 'courseunits': ['', 3, 3, 3, 3], 'scores': ['']}}\n",
      "{'_id': ObjectId('5e87082a86ee0b2b0398e6ee'), 'author': 'Mike', 'text': 'lol', 'tags': ['bulk', 'insert'], 'date': datetime.datetime(2009, 11, 12, 11, 14), 'courses': {'coursecodes': ['', 'CHG303'], 'courseunits': ['', 3, 3, 3, 3], 'scores': ['']}}\n",
      "{'_id': ObjectId('5e87084ca40d541a70809c6f'), 'author': 'Mike', 'text': 'lol', 'tags': ['bulk', 'insert'], 'date': datetime.datetime(2009, 11, 12, 11, 14), 'courses': {'coursecodes': ['', 'CHG303'], 'courseunits': ['', 3, 3, 3, 3], 'scores': ['']}}\n",
      "{'_id': ObjectId('5e87088223ea4d620dfc1537'), 'author': 'Mike', 'text': 'lol', 'tags': ['bulk', 'insert'], 'date': datetime.datetime(2009, 11, 12, 11, 14), 'courses': {'coursecodes': ['', 'CHG303'], 'courseunits': ['', 3, 3, 3, 3], 'scores': ['']}}\n",
      "{'_id': ObjectId('5ea2d2848c643944c71f19d8'), 'author': 'Mike', 'text': 'lol', 'tags': ['bulk', 'insert'], 'date': datetime.datetime(2009, 11, 12, 11, 14), 'courses': {'coursecodes': ['', 'CHG303'], 'courseunits': ['', 3, 3, 3, 3], 'scores': ['']}}\n"
     ]
    }
   ],
   "source": [
    "for io in posts.find({'author':'Mike'}):\n",
    "    print(io)"
   ]
  },
  {
   "cell_type": "code",
   "execution_count": 330,
   "metadata": {},
   "outputs": [
    {
     "data": {
      "text/plain": [
       "{'_id': ObjectId('5ea2d2848c643944c71f19d8'),\n",
       " 'author': 'Mike',\n",
       " 'text': 'lol',\n",
       " 'tags': ['bulk', 'insert'],\n",
       " 'date': datetime.datetime(2009, 11, 12, 11, 14),\n",
       " 'courses': {'coursecodes': ['', 'CHG303'],\n",
       "  'courseunits': ['', 3, 3, 3, 3],\n",
       "  'scores': ['']}}"
      ]
     },
     "execution_count": 330,
     "metadata": {},
     "output_type": "execute_result"
    }
   ],
   "source": [
    "io"
   ]
  },
  {
   "cell_type": "code",
   "execution_count": 336,
   "metadata": {},
   "outputs": [],
   "source": [
    "io['courses']['coursecodes'].append('CHG303')"
   ]
  },
  {
   "cell_type": "code",
   "execution_count": 337,
   "metadata": {},
   "outputs": [],
   "source": [
    "newcourses = io['courses']['coursecodes']"
   ]
  },
  {
   "cell_type": "code",
   "execution_count": 338,
   "metadata": {},
   "outputs": [
    {
     "data": {
      "text/plain": [
       "['', 'CHG303', 'CHG303', 'CHG303']"
      ]
     },
     "execution_count": 338,
     "metadata": {},
     "output_type": "execute_result"
    }
   ],
   "source": [
    "newcourses"
   ]
  },
  {
   "cell_type": "code",
   "execution_count": 304,
   "metadata": {},
   "outputs": [],
   "source": [
    "io['courses']['courseunits'].append(3)"
   ]
  },
  {
   "cell_type": "code",
   "execution_count": 305,
   "metadata": {},
   "outputs": [],
   "source": [
    "newunits = io['courses']['courseunits']\n"
   ]
  },
  {
   "cell_type": "code",
   "execution_count": 306,
   "metadata": {},
   "outputs": [
    {
     "data": {
      "text/plain": [
       "<pymongo.results.UpdateResult at 0x2c589614208>"
      ]
     },
     "execution_count": 306,
     "metadata": {},
     "output_type": "execute_result"
    }
   ],
   "source": [
    "posts.update_many({'author':'Mike'},\n",
    "                  {\"$set\": {'courses':{'coursecodes': newcourses,\n",
    "                                      'courseunits': newunits,\n",
    "                                       'scores':['']}}})"
   ]
  },
  {
   "cell_type": "code",
   "execution_count": 307,
   "metadata": {},
   "outputs": [
    {
     "name": "stdout",
     "output_type": "stream",
     "text": [
      "{'_id': ObjectId('5e8706b280aa8dca9b4da23c'), 'author': 'Mike', 'text': 'lol', 'tags': ['bulk', 'insert'], 'date': datetime.datetime(2009, 11, 12, 11, 14), 'courses': {'coursecodes': ['', 'CHG303'], 'courseunits': ['', 3, 3, 3, 3], 'scores': ['']}}\n",
      "{'_id': ObjectId('5e8707842b99470c0e252cf5'), 'author': 'Mike', 'text': 'lol', 'tags': ['bulk', 'insert'], 'date': datetime.datetime(2009, 11, 12, 11, 14), 'courses': {'coursecodes': ['', 'CHG303'], 'courseunits': ['', 3, 3, 3, 3], 'scores': ['']}}\n",
      "{'_id': ObjectId('5e8707b13e6b74453b26f19a'), 'author': 'Mike', 'text': 'lol', 'tags': ['bulk', 'insert'], 'date': datetime.datetime(2009, 11, 12, 11, 14), 'courses': {'coursecodes': ['', 'CHG303'], 'courseunits': ['', 3, 3, 3, 3], 'scores': ['']}}\n",
      "{'_id': ObjectId('5e8707fe5d537a231d0963ec'), 'author': 'Mike', 'text': 'lol', 'tags': ['bulk', 'insert'], 'date': datetime.datetime(2009, 11, 12, 11, 14), 'courses': {'coursecodes': ['', 'CHG303'], 'courseunits': ['', 3, 3, 3, 3], 'scores': ['']}}\n",
      "{'_id': ObjectId('5e870807dad020cc7faddf17'), 'author': 'Mike', 'text': 'lol', 'tags': ['bulk', 'insert'], 'date': datetime.datetime(2009, 11, 12, 11, 14), 'courses': {'coursecodes': ['', 'CHG303'], 'courseunits': ['', 3, 3, 3, 3], 'scores': ['']}}\n",
      "{'_id': ObjectId('5e8708110b830cd62f8a47dc'), 'author': 'Mike', 'text': 'lol', 'tags': ['bulk', 'insert'], 'date': datetime.datetime(2009, 11, 12, 11, 14), 'courses': {'coursecodes': ['', 'CHG303'], 'courseunits': ['', 3, 3, 3, 3], 'scores': ['']}}\n",
      "{'_id': ObjectId('5e87082a86ee0b2b0398e6ee'), 'author': 'Mike', 'text': 'lol', 'tags': ['bulk', 'insert'], 'date': datetime.datetime(2009, 11, 12, 11, 14), 'courses': {'coursecodes': ['', 'CHG303'], 'courseunits': ['', 3, 3, 3, 3], 'scores': ['']}}\n",
      "{'_id': ObjectId('5e87084ca40d541a70809c6f'), 'author': 'Mike', 'text': 'lol', 'tags': ['bulk', 'insert'], 'date': datetime.datetime(2009, 11, 12, 11, 14), 'courses': {'coursecodes': ['', 'CHG303'], 'courseunits': ['', 3, 3, 3, 3], 'scores': ['']}}\n",
      "{'_id': ObjectId('5e87088223ea4d620dfc1537'), 'author': 'Mike', 'text': 'lol', 'tags': ['bulk', 'insert'], 'date': datetime.datetime(2009, 11, 12, 11, 14), 'courses': {'coursecodes': ['', 'CHG303'], 'courseunits': ['', 3, 3, 3, 3], 'scores': ['']}}\n",
      "{'_id': ObjectId('5ea2d2848c643944c71f19d8'), 'author': 'Mike', 'text': 'lol', 'tags': ['bulk', 'insert'], 'date': datetime.datetime(2009, 11, 12, 11, 14), 'courses': {'coursecodes': ['', 'CHG303'], 'courseunits': ['', 3, 3, 3, 3], 'scores': ['']}}\n"
     ]
    }
   ],
   "source": [
    "for io in posts.find({'author':'Mike'}):\n",
    "    print(io)"
   ]
  },
  {
   "cell_type": "code",
   "execution_count": 308,
   "metadata": {},
   "outputs": [
    {
     "data": {
      "text/plain": [
       "{'_id': ObjectId('5ea2d2848c643944c71f19d8'),\n",
       " 'author': 'Mike',\n",
       " 'text': 'lol',\n",
       " 'tags': ['bulk', 'insert'],\n",
       " 'date': datetime.datetime(2009, 11, 12, 11, 14),\n",
       " 'courses': {'coursecodes': ['', 'CHG303'],\n",
       "  'courseunits': ['', 3, 3, 3, 3],\n",
       "  'scores': ['']}}"
      ]
     },
     "execution_count": 308,
     "metadata": {},
     "output_type": "execute_result"
    }
   ],
   "source": [
    "io"
   ]
  },
  {
   "cell_type": "code",
   "execution_count": 341,
   "metadata": {},
   "outputs": [],
   "source": [
    "lopu ={'author':'none'}"
   ]
  },
  {
   "cell_type": "code",
   "execution_count": 342,
   "metadata": {},
   "outputs": [
    {
     "data": {
      "text/plain": [
       "<pymongo.results.InsertOneResult at 0x2c589614548>"
      ]
     },
     "execution_count": 342,
     "metadata": {},
     "output_type": "execute_result"
    }
   ],
   "source": [
    "posts.insert_one(lopu)"
   ]
  },
  {
   "cell_type": "code",
   "execution_count": 356,
   "metadata": {},
   "outputs": [
    {
     "data": {
      "text/plain": [
       "{'_id': ObjectId('5e8706b280aa8dca9b4da23c'),\n",
       " 'author': 'Mike',\n",
       " 'text': 'lol',\n",
       " 'tags': ['bulk', 'insert'],\n",
       " 'date': datetime.datetime(2009, 11, 12, 11, 14),\n",
       " 'courses': {'coursecodes': ['', 'CHG303'],\n",
       "  'courseunits': ['', 3, 3, 3, 3],\n",
       "  'scores': ['']}}"
      ]
     },
     "execution_count": 356,
     "metadata": {},
     "output_type": "execute_result"
    }
   ],
   "source": [
    "iup = posts.find_one({'author' : 'Mike'})\n",
    "iup"
   ]
  },
  {
   "cell_type": "code",
   "execution_count": 358,
   "metadata": {},
   "outputs": [
    {
     "data": {
      "text/plain": [
       "dict_keys(['_id', 'author', 'text', 'tags', 'date', 'courses'])"
      ]
     },
     "execution_count": 358,
     "metadata": {},
     "output_type": "execute_result"
    }
   ],
   "source": [
    "iup.keys()"
   ]
  },
  {
   "cell_type": "code",
   "execution_count": 364,
   "metadata": {},
   "outputs": [],
   "source": [
    "lio = iup['courses']['coursecodes']"
   ]
  },
  {
   "cell_type": "code",
   "execution_count": 365,
   "metadata": {},
   "outputs": [
    {
     "data": {
      "text/plain": [
       "['', 'CHG303']"
      ]
     },
     "execution_count": 365,
     "metadata": {},
     "output_type": "execute_result"
    }
   ],
   "source": [
    "lio"
   ]
  },
  {
   "cell_type": "code",
   "execution_count": 363,
   "metadata": {},
   "outputs": [
    {
     "name": "stdout",
     "output_type": "stream",
     "text": [
      "True\n"
     ]
    }
   ],
   "source": [
    "if 'courses' in iup.keys():\n",
    "    print(True)\n",
    "else:\n",
    "    print(False)\n",
    "    \n",
    "    "
   ]
  },
  {
   "cell_type": "code",
   "execution_count": 375,
   "metadata": {},
   "outputs": [],
   "source": [
    "lon = ['None',2,3,4]"
   ]
  },
  {
   "cell_type": "code",
   "execution_count": 376,
   "metadata": {},
   "outputs": [
    {
     "data": {
      "text/plain": [
       "4"
      ]
     },
     "execution_count": 376,
     "metadata": {},
     "output_type": "execute_result"
    }
   ],
   "source": [
    "len(lon)"
   ]
  },
  {
   "cell_type": "code",
   "execution_count": 377,
   "metadata": {},
   "outputs": [
    {
     "name": "stdout",
     "output_type": "stream",
     "text": [
      "True\n"
     ]
    }
   ],
   "source": [
    "if 'None' in lon:\n",
    "    print(True)"
   ]
  },
  {
   "cell_type": "code",
   "execution_count": 382,
   "metadata": {},
   "outputs": [],
   "source": [
    "lon.remove(lon[1])"
   ]
  },
  {
   "cell_type": "code",
   "execution_count": 383,
   "metadata": {},
   "outputs": [
    {
     "data": {
      "text/plain": [
       "[2, 4]"
      ]
     },
     "execution_count": 383,
     "metadata": {},
     "output_type": "execute_result"
    }
   ],
   "source": [
    "lon"
   ]
  },
  {
   "cell_type": "code",
   "execution_count": 379,
   "metadata": {},
   "outputs": [
    {
     "data": {
      "text/plain": [
       "Collection(Database(MongoClient(host=['localhost:27017'], document_class=dict, tz_aware=False, connect=True), 'test-database'), 'posts.author')"
      ]
     },
     "execution_count": 379,
     "metadata": {},
     "output_type": "execute_result"
    }
   ],
   "source": [
    "posts['author']"
   ]
  },
  {
   "cell_type": "code",
   "execution_count": null,
   "metadata": {},
   "outputs": [],
   "source": []
  },
  {
   "cell_type": "code",
   "execution_count": null,
   "metadata": {},
   "outputs": [],
   "source": []
  },
  {
   "cell_type": "code",
   "execution_count": 340,
   "metadata": {},
   "outputs": [
    {
     "data": {
      "text/plain": [
       "{'_id': ObjectId('5e8706b280aa8dca9b4da23c'),\n",
       " 'author': 'Mike',\n",
       " 'text': 'lol',\n",
       " 'tags': ['bulk', 'insert'],\n",
       " 'date': datetime.datetime(2009, 11, 12, 11, 14),\n",
       " 'courses': {'coursecodes': ['', 'CHG303'],\n",
       "  'courseunits': ['', 3, 3, 3, 3],\n",
       "  'scores': ['']}}"
      ]
     },
     "execution_count": 340,
     "metadata": {},
     "output_type": "execute_result"
    }
   ],
   "source": [
    "iuo = posts.find_one({'author' : 'Mike'})\n",
    "iuo"
   ]
  },
  {
   "cell_type": "code",
   "execution_count": null,
   "metadata": {},
   "outputs": [],
   "source": []
  },
  {
   "cell_type": "code",
   "execution_count": null,
   "metadata": {},
   "outputs": [],
   "source": []
  },
  {
   "cell_type": "code",
   "execution_count": 323,
   "metadata": {},
   "outputs": [
    {
     "data": {
      "text/plain": [
       "{'coursecodes': ['', 'CHG303'],\n",
       " 'courseunits': ['', 3, 3, 3, 3],\n",
       " 'scores': ['']}"
      ]
     },
     "execution_count": 323,
     "metadata": {},
     "output_type": "execute_result"
    }
   ],
   "source": [
    "iuo['courses']"
   ]
  },
  {
   "cell_type": "code",
   "execution_count": 274,
   "metadata": {},
   "outputs": [
    {
     "data": {
      "text/plain": [
       "['']"
      ]
     },
     "execution_count": 274,
     "metadata": {},
     "output_type": "execute_result"
    }
   ],
   "source": [
    "io['courses']['scores']"
   ]
  },
  {
   "cell_type": "code",
   "execution_count": null,
   "metadata": {},
   "outputs": [],
   "source": []
  },
  {
   "cell_type": "code",
   "execution_count": 370,
   "metadata": {},
   "outputs": [],
   "source": [
    "def add_courses(request, col, name):\n",
    "    \n",
    "    col.update_one({'username':name},\n",
    "                  {\"$set\": {'courses':{'coursecodes': [],\n",
    "                                      'courseunits': [],\n",
    "                                       'scores':[]}}})\n",
    "    \n",
    "    coursecode = request.POST['coursecode']\n",
    "    courseunit = request.POST['courseunit']\n",
    "    score = request.POST['score']\n",
    "    \n",
    "    user = col.find_one({'username' : name})\n",
    "\n",
    "    \n",
    "    user['courses']['coursecodes'].append(coursecode)\n",
    "    newcourses = user['courses']['coursecodes']\n",
    "    user['courses']['courseunits'].append(courseunit)\n",
    "    newunits = user['courses']['courseunits']\n",
    "    user['courses']['scores'].append(score)\n",
    "    newscores  = user['courses']['scores']\n",
    "    \n",
    "    col.update_one({'username':'name'},\n",
    "                  {\"$set\": {'courses':{'coursecodes': newcourses,\n",
    "                                      'courseunits': newunits,\n",
    "                                       'scores':newscores}}})\n",
    "    \n",
    "    \n",
    "    \n",
    "    \n",
    "    \n",
    "    \n",
    "    \n",
    "   \n",
    "     \n",
    "        \n",
    "        \n",
    "    "
   ]
  },
  {
   "cell_type": "code",
   "execution_count": 140,
   "metadata": {},
   "outputs": [
    {
     "name": "stderr",
     "output_type": "stream",
     "text": [
      "C:\\Users\\hp\\Anaconda3\\lib\\site-packages\\ipykernel_launcher.py:5: DeprecationWarning: count is deprecated. Use Collection.count_documents instead.\n",
      "  \"\"\"\n"
     ]
    }
   ],
   "source": [
    "coll = add_user(mycol,'lol','passe')"
   ]
  },
  {
   "cell_type": "code",
   "execution_count": 144,
   "metadata": {},
   "outputs": [],
   "source": [
    "lu = coll.find({'username':'lol'})"
   ]
  },
  {
   "cell_type": "code",
   "execution_count": 150,
   "metadata": {},
   "outputs": [
    {
     "name": "stdout",
     "output_type": "stream",
     "text": [
      "passe\n"
     ]
    }
   ],
   "source": [
    "for lu in coll.find({'username':'lol'}):\n",
    "    print(lu['Password'])"
   ]
  },
  {
   "cell_type": "code",
   "execution_count": 153,
   "metadata": {},
   "outputs": [
    {
     "data": {
      "text/plain": [
       "Collection(Database(MongoClient(host=['localhost:27017'], document_class=dict, tz_aware=False, connect=True), 'lairdatabase'), 'users.username')"
      ]
     },
     "execution_count": 153,
     "metadata": {},
     "output_type": "execute_result"
    }
   ],
   "source": [
    "coll['username']"
   ]
  },
  {
   "cell_type": "code",
   "execution_count": 158,
   "metadata": {},
   "outputs": [],
   "source": [
    "coll.drop()"
   ]
  },
  {
   "cell_type": "code",
   "execution_count": 157,
   "metadata": {},
   "outputs": [
    {
     "ename": "TypeError",
     "evalue": "database_names() missing 1 required positional argument: 'self'",
     "output_type": "error",
     "traceback": [
      "\u001b[1;31m---------------------------------------------------------------------------\u001b[0m",
      "\u001b[1;31mTypeError\u001b[0m                                 Traceback (most recent call last)",
      "\u001b[1;32m<ipython-input-157-c125b7cd44c7>\u001b[0m in \u001b[0;36m<module>\u001b[1;34m()\u001b[0m\n\u001b[1;32m----> 1\u001b[1;33m \u001b[0mdatabase_list\u001b[0m \u001b[1;33m=\u001b[0m \u001b[0mpymongo\u001b[0m\u001b[1;33m.\u001b[0m\u001b[0mMongoClient\u001b[0m\u001b[1;33m.\u001b[0m\u001b[0mdatabase_names\u001b[0m\u001b[1;33m(\u001b[0m\u001b[1;33m)\u001b[0m\u001b[1;33m\u001b[0m\u001b[0m\n\u001b[0m\u001b[0;32m      2\u001b[0m \u001b[0mprint\u001b[0m \u001b[1;33m(\u001b[0m\u001b[1;34m\"db names:\"\u001b[0m\u001b[1;33m,\u001b[0m \u001b[0mdatabase_list\u001b[0m\u001b[1;33m)\u001b[0m\u001b[1;33m\u001b[0m\u001b[0m\n",
      "\u001b[1;31mTypeError\u001b[0m: database_names() missing 1 required positional argument: 'self'"
     ]
    }
   ],
   "source": [
    "database_list = pymongo.MongoClient.database_names()\n",
    "print (\"db names:\", database_list)"
   ]
  },
  {
   "cell_type": "code",
   "execution_count": 169,
   "metadata": {},
   "outputs": [],
   "source": [
    "named = 'bori'"
   ]
  },
  {
   "cell_type": "code",
   "execution_count": 170,
   "metadata": {},
   "outputs": [],
   "source": [
    "bori = named.capitalize()"
   ]
  },
  {
   "cell_type": "code",
   "execution_count": 171,
   "metadata": {},
   "outputs": [
    {
     "data": {
      "text/plain": [
       "'Bori'"
      ]
     },
     "execution_count": 171,
     "metadata": {},
     "output_type": "execute_result"
    }
   ],
   "source": [
    "bori"
   ]
  },
  {
   "cell_type": "code",
   "execution_count": 432,
   "metadata": {},
   "outputs": [],
   "source": [
    "\n",
    "def lol(z='boy'):\n",
    "    \n",
    "    z = 'boy'\n",
    "    \n",
    "    global x\n",
    "    x=y1\n",
    "    \n",
    "    print(x)\n",
    "\n",
    "    \n",
    "def lolz(y='boo'):\n",
    "    global y1\n",
    "    y1 = y\n",
    "    x = y\n",
    "    print(y)\n"
   ]
  },
  {
   "cell_type": "code",
   "execution_count": 433,
   "metadata": {},
   "outputs": [
    {
     "name": "stdout",
     "output_type": "stream",
     "text": [
      "boo\n"
     ]
    }
   ],
   "source": [
    "lol(x)"
   ]
  },
  {
   "cell_type": "code",
   "execution_count": 434,
   "metadata": {},
   "outputs": [
    {
     "name": "stdout",
     "output_type": "stream",
     "text": [
      "boo\n"
     ]
    }
   ],
   "source": [
    "lolz()"
   ]
  },
  {
   "cell_type": "code",
   "execution_count": 438,
   "metadata": {},
   "outputs": [
    {
     "name": "stdout",
     "output_type": "stream",
     "text": [
      "1\n",
      "2\n",
      "3\n",
      "4\n",
      "5\n",
      "6\n",
      "7\n",
      "8\n",
      "9\n",
      "10\n"
     ]
    }
   ],
   "source": [
    "for i in range(1,11):\n",
    "    print(i)"
   ]
  },
  {
   "cell_type": "code",
   "execution_count": 451,
   "metadata": {},
   "outputs": [],
   "source": [
    "oil = [1,2,3]\n",
    "lio = [2,3,4]\n",
    "ilo = [2,3,1] \n",
    "index = []\n",
    "for i in range(len(oil)):\n",
    "    index.append(i)"
   ]
  },
  {
   "cell_type": "code",
   "execution_count": 452,
   "metadata": {},
   "outputs": [
    {
     "data": {
      "text/plain": [
       "[0, 1, 2]"
      ]
     },
     "execution_count": 452,
     "metadata": {},
     "output_type": "execute_result"
    }
   ],
   "source": [
    "index"
   ]
  },
  {
   "cell_type": "code",
   "execution_count": 453,
   "metadata": {},
   "outputs": [],
   "source": [
    "zipped = zip(index,oil,lio,ilo)"
   ]
  },
  {
   "cell_type": "code",
   "execution_count": 454,
   "metadata": {},
   "outputs": [
    {
     "data": {
      "text/plain": [
       "[(0, 1, 2, 2), (1, 2, 3, 3), (2, 3, 4, 1)]"
      ]
     },
     "execution_count": 454,
     "metadata": {},
     "output_type": "execute_result"
    }
   ],
   "source": [
    "list(zipped)"
   ]
  },
  {
   "cell_type": "code",
   "execution_count": null,
   "metadata": {},
   "outputs": [],
   "source": []
  },
  {
   "cell_type": "code",
   "execution_count": 456,
   "metadata": {},
   "outputs": [],
   "source": [
    "import numpy as np"
   ]
  },
  {
   "cell_type": "code",
   "execution_count": 457,
   "metadata": {},
   "outputs": [],
   "source": [
    "oil = np.array(oil)"
   ]
  },
  {
   "cell_type": "code",
   "execution_count": 460,
   "metadata": {},
   "outputs": [
    {
     "data": {
      "text/plain": [
       "array([1, 2, 3])"
      ]
     },
     "execution_count": 460,
     "metadata": {},
     "output_type": "execute_result"
    }
   ],
   "source": [
    "oil"
   ]
  },
  {
   "cell_type": "code",
   "execution_count": 461,
   "metadata": {},
   "outputs": [],
   "source": [
    "ilon = ['1','2','3','4']"
   ]
  },
  {
   "cell_type": "code",
   "execution_count": 464,
   "metadata": {},
   "outputs": [],
   "source": [
    "for i in range(len(ilon)):\n",
    "    ilon[i] = int(ilon[i])"
   ]
  },
  {
   "cell_type": "code",
   "execution_count": 465,
   "metadata": {},
   "outputs": [
    {
     "data": {
      "text/plain": [
       "[1, 2, 3, 4]"
      ]
     },
     "execution_count": 465,
     "metadata": {},
     "output_type": "execute_result"
    }
   ],
   "source": [
    "ilon"
   ]
  },
  {
   "cell_type": "code",
   "execution_count": 467,
   "metadata": {},
   "outputs": [
    {
     "data": {
      "text/plain": [
       "int"
      ]
     },
     "execution_count": 467,
     "metadata": {},
     "output_type": "execute_result"
    }
   ],
   "source": [
    "type(ilon[0])"
   ]
  },
  {
   "cell_type": "code",
   "execution_count": 18,
   "metadata": {},
   "outputs": [],
   "source": [
    "olu = [\"1\",'3','3','4']"
   ]
  },
  {
   "cell_type": "code",
   "execution_count": 19,
   "metadata": {},
   "outputs": [
    {
     "data": {
      "text/plain": [
       "2"
      ]
     },
     "execution_count": 19,
     "metadata": {},
     "output_type": "execute_result"
    }
   ],
   "source": [
    "olu.count(\"3\")"
   ]
  },
  {
   "cell_type": "code",
   "execution_count": 20,
   "metadata": {},
   "outputs": [
    {
     "name": "stdout",
     "output_type": "stream",
     "text": [
      "haha\n",
      "hun\n"
     ]
    }
   ],
   "source": [
    "um = []\n",
    "for i in olu:\n",
    "    if olu.count(i) > 1:\n",
    "        um.append(True)\n",
    "    else:\n",
    "        um.append(False)\n",
    "        \n",
    "if True in um:\n",
    "    print('haha')\n",
    "else:\n",
    "    print('lol')\n",
    "\n",
    "if len(olu) < 4:\n",
    "    print('bomb')\n",
    "else:\n",
    "    print('hun')"
   ]
  },
  {
   "cell_type": "code",
   "execution_count": 71,
   "metadata": {},
   "outputs": [],
   "source": [
    "\n",
    "def lol():\n",
    "    \n",
    "    global x,y\n",
    "    x,y= 2,-1\n"
   ]
  },
  {
   "cell_type": "code",
   "execution_count": 72,
   "metadata": {},
   "outputs": [],
   "source": [
    "lol()"
   ]
  },
  {
   "cell_type": "code",
   "execution_count": 73,
   "metadata": {},
   "outputs": [
    {
     "data": {
      "text/plain": [
       "2"
      ]
     },
     "execution_count": 73,
     "metadata": {},
     "output_type": "execute_result"
    }
   ],
   "source": [
    "x"
   ]
  },
  {
   "cell_type": "code",
   "execution_count": 74,
   "metadata": {},
   "outputs": [
    {
     "data": {
      "text/plain": [
       "-1"
      ]
     },
     "execution_count": 74,
     "metadata": {},
     "output_type": "execute_result"
    }
   ],
   "source": [
    "y"
   ]
  },
  {
   "cell_type": "code",
   "execution_count": 79,
   "metadata": {},
   "outputs": [],
   "source": [
    "def loo():\n",
    "    y1 = y*2\n",
    "    x1 = x-1\n",
    "    print(x,y)"
   ]
  },
  {
   "cell_type": "code",
   "execution_count": 80,
   "metadata": {},
   "outputs": [
    {
     "name": "stdout",
     "output_type": "stream",
     "text": [
      "2 -1\n"
     ]
    }
   ],
   "source": [
    "loo()"
   ]
  },
  {
   "cell_type": "code",
   "execution_count": 101,
   "metadata": {},
   "outputs": [],
   "source": [
    "import string\n",
    "from random import choice\n"
   ]
  },
  {
   "cell_type": "code",
   "execution_count": 126,
   "metadata": {},
   "outputs": [
    {
     "data": {
      "text/plain": [
       "'6735'"
      ]
     },
     "execution_count": 126,
     "metadata": {},
     "output_type": "execute_result"
    }
   ],
   "source": [
    "\n"
   ]
  },
  {
   "cell_type": "code",
   "execution_count": 127,
   "metadata": {},
   "outputs": [
    {
     "data": {
      "text/plain": [
       "'6735'"
      ]
     },
     "execution_count": 127,
     "metadata": {},
     "output_type": "execute_result"
    }
   ],
   "source": [
    "\n",
    "\n",
    "random"
   ]
  },
  {
   "cell_type": "code",
   "execution_count": 138,
   "metadata": {},
   "outputs": [
    {
     "data": {
      "text/plain": [
       "'4945'"
      ]
     },
     "execution_count": 138,
     "metadata": {},
     "output_type": "execute_result"
    }
   ],
   "source": [
    "chars = string.digits\n",
    "random =  ''.join(choice(chars) for _ in range(4))\n",
    "olu = random\n",
    "um = []\n",
    "\n",
    "for i in olu:\n",
    "    if olu.count(i) > 1:\n",
    "        um.append(True)\n",
    "    else:\n",
    "        um.append(False)\n",
    "        \n",
    "if True in um:\n",
    "    olu =  ''.join(choice(chars) for _ in range(4))\n",
    "else:\n",
    "    random = olu\n",
    "\n",
    "random    "
   ]
  },
  {
   "cell_type": "code",
   "execution_count": 139,
   "metadata": {},
   "outputs": [],
   "source": [
    "import random"
   ]
  },
  {
   "cell_type": "code",
   "execution_count": 173,
   "metadata": {},
   "outputs": [
    {
     "data": {
      "text/plain": [
       "'7203'"
      ]
     },
     "execution_count": 173,
     "metadata": {},
     "output_type": "execute_result"
    }
   ],
   "source": [
    "\n",
    "secret = ''.join(map(str,random.sample(range(10), 4)))\n",
    "secret"
   ]
  },
  {
   "cell_type": "code",
   "execution_count": null,
   "metadata": {},
   "outputs": [],
   "source": []
  },
  {
   "cell_type": "code",
   "execution_count": null,
   "metadata": {},
   "outputs": [],
   "source": []
  },
  {
   "cell_type": "code",
   "execution_count": null,
   "metadata": {},
   "outputs": [],
   "source": []
  },
  {
   "cell_type": "code",
   "execution_count": null,
   "metadata": {},
   "outputs": [],
   "source": []
  }
 ],
 "metadata": {
  "kernelspec": {
   "display_name": "Python 3",
   "language": "python",
   "name": "python3"
  },
  "language_info": {
   "codemirror_mode": {
    "name": "ipython",
    "version": 3
   },
   "file_extension": ".py",
   "mimetype": "text/x-python",
   "name": "python",
   "nbconvert_exporter": "python",
   "pygments_lexer": "ipython3",
   "version": "3.7.0"
  }
 },
 "nbformat": 4,
 "nbformat_minor": 1
}
